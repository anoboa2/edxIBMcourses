{
 "cells": [
  {
   "cell_type": "markdown",
   "metadata": {},
   "source": [
    "<a href=\"https://www.skills.network/\"><img src=\"https://cf-courses-data.s3.us.cloud-object-storage.appdomain.cloud/IBM-DL0120ENedX/labs/Template%20for%20Instructional%20Hands-on%20Labs/images/IDSNlogo.png\" width=\"400px\" align=\"center\"></a>\n",
    "\n",
    "<h1 align=\"center\"><font size=\"5\">RESTRICTED BOLTZMANN MACHINES</font></h1>\n"
   ]
  },
  {
   "cell_type": "markdown",
   "metadata": {},
   "source": [
    "<h3>Introduction</h3>\n",
    "<b>Restricted Boltzmann Machine (RBM):</b>  RBMs are shallow neural nets that learn to reconstruct data by themselves in an unsupervised fashion.  \n",
    "\n",
    "<h4>Why are RBMs important?</h4>\n",
    "An RBM are a basic form of autoencoder.  It can automatically extract <b>meaningful</b> features from a given input.\n",
    "\n",
    "<h4>How does it work?</h4>\n",
    "RBM is a 2 layer neural network. Simply, RBM takes the inputs and translates those into a set of binary values that represents them in the hidden layer. Then, these numbers can be translated back to reconstruct the inputs. Through several forward and backward passes, the RBM will be trained, and a trained RBM can reveal which features are the most important ones when detecting patterns.   \n",
    "\n",
    "<h4>What are the applications of an RBM?</h4>\n",
    "RBM is useful for <a href='http://www.cs.utoronto.ca/~hinton/absps/netflixICML.pdf'>  Collaborative Filtering</a>, dimensionality reduction, classification, regression, feature learning, topic modeling and even <b>Deep Belief Networks</b>.\n",
    "\n",
    "<h4>Is RBM a generative or Discriminative model?</h4>\n",
    "RBM is a generative model. Let me explain it by first, see what is different between discriminative and generative models: \n",
    "\n",
    "<b>Discriminative:</b> Consider a classification problem where we want to learn to distinguish between Sedan cars (y = 1) and SUV cars (y = 0), based on some features of cars. Given a training set, an algorithm like logistic regression tries to find a straight line, or <i>decision boundary</i>, that separates the suv and sedan.  \n",
    "\n",
    "<b>Generative:</b> looking at cars, we can build a model of what Sedan cars look like. Then, looking at SUVs, we can build a separate model of what SUV cars look like. Finally, to classify a new car, we can match the new car against the Sedan model, and match it against the SUV model, to see whether the new car looks more like the SUV or Sedan. \n",
    "\n",
    "Generative Models specify a probability distribution over a dataset of input vectors. We can carry out both supervised and unsupervised tasks with generative models:\n",
    "\n",
    "<ul>\n",
    "    <li>In an unsupervised task, we try to form a model for $P(x)$, where $P$ is the probability given $x$ as an input vector.</li>\n",
    "    <li>In the supervised task, we first form a model for $P(x|y)$, where $P$ is the probability of $x$ given $y$(the label for $x$). For example, if $y = 0$ indicates that a car is an SUV, and $y = 1$ indicates that a car is a sedan, then $p(x|y = 0)$ models the distribution of SUV features, and $p(x|y = 1)$ models the distribution of sedan features. If we manage to find $P(x|y)$ and $P(y)$, then we can use <b>Bayes rule</b> to estimate $P(y|x)$, because:   \n",
    "        $$p(y|x) = \\frac{p(x|y)p(y)}{p(x)}$$</li>\n",
    "</ul>\n",
    "Now the question is, can we build a generative model, and then use it to create synthetic data by directly sampling from the modeled probability distributions? Lets see. \n"
   ]
  },
  {
   "cell_type": "markdown",
   "metadata": {},
   "source": [
    "<h2>Table of Contents</h2>\n",
    "<ol>\n",
    "    <li><a href=\"#ref1\">Initialization</a></li>\n",
    "    <li><a href=\"#ref2\">RBM layers</a></li>\n",
    "    <li><a href=\"#ref3\">What RBM can do after training?</a></li>\n",
    "    <li><a href=\"#ref4\">How to train the model?</a></li>\n",
    "    <li><a href=\"#ref5\">Learned features</a></li>\n",
    "</ol>\n",
    "<p></p>\n",
    "</div>\n",
    "<br>\n",
    "\n",
    "<hr>\n"
   ]
  },
  {
   "cell_type": "markdown",
   "metadata": {},
   "source": [
    "<a id=\"ref1\"></a>\n",
    "\n",
    "<h3>Initialization</h3>\n",
    "\n",
    "First, we have to load the utility file which contains different utility functions that are not connected\n",
    "in any way to the networks presented in the tutorials, but rather help in\n",
    "processing the outputs into a more understandable way.\n"
   ]
  },
  {
   "cell_type": "code",
   "execution_count": 1,
   "metadata": {},
   "outputs": [],
   "source": [
    "import urllib.request\n",
    "with urllib.request.urlopen(\"https://cf-courses-data.s3.us.cloud-object-storage.appdomain.cloud/IBMDeveloperSkillsNetwork-DL0120EN-SkillsNetwork/labs/Week4/data/utils.py\") as url:\n",
    "    response = url.read()\n",
    "target = open('utils.py', 'w')\n",
    "target.write(response.decode('utf-8'))\n",
    "target.close()"
   ]
  },
  {
   "cell_type": "markdown",
   "metadata": {},
   "source": [
    "<h2>Installing TensorFlow </h2>\n",
    "\n",
    "We will installing TensorFlow version 2.2.0 and its required prerequistes.  Also installing pillow...\n"
   ]
  },
  {
   "cell_type": "code",
   "execution_count": 2,
   "metadata": {},
   "outputs": [
    {
     "name": "stdout",
     "output_type": "stream",
     "text": [
      "Collecting grpcio==1.24.3\n",
      "\u001b[?25l  Downloading https://files.pythonhosted.org/packages/30/54/c9810421e41ec0bca2228c6f06b1b1189b196b69533cbcac9f71b44727f8/grpcio-1.24.3-cp36-cp36m-manylinux2010_x86_64.whl (2.2MB)\n",
      "\u001b[K     |████████████████████████████████| 2.2MB 959kB/s eta 0:00:01\n",
      "\u001b[?25hRequirement already satisfied: six>=1.5.2 in /home/jupyterlab/conda/envs/python/lib/python3.6/site-packages (from grpcio==1.24.3) (1.16.0)\n",
      "Installing collected packages: grpcio\n",
      "  Found existing installation: grpcio 1.38.0\n",
      "    Uninstalling grpcio-1.38.0:\n",
      "      Successfully uninstalled grpcio-1.38.0\n",
      "Successfully installed grpcio-1.24.3\n",
      "Collecting tensorflow==2.2.0\n",
      "\u001b[?25l  Downloading https://files.pythonhosted.org/packages/3d/be/679ce5254a8c8d07470efb4a4c00345fae91f766e64f1c2aece8796d7218/tensorflow-2.2.0-cp36-cp36m-manylinux2010_x86_64.whl (516.2MB)\n",
      "\u001b[K     |████████████████████████████████| 516.2MB 96kB/s s eta 0:00:01    |█▉                              | 29.9MB 24.8MB/s eta 0:00:20     |████████████████▉               | 271.1MB 47.8MB/s eta 0:00:06��██▋           | 333.2MB 46.9MB/s eta 0:00:04\n",
      "\u001b[?25hCollecting opt-einsum>=2.3.2 (from tensorflow==2.2.0)\n",
      "\u001b[?25l  Downloading https://files.pythonhosted.org/packages/bc/19/404708a7e54ad2798907210462fd950c3442ea51acc8790f3da48d2bee8b/opt_einsum-3.3.0-py3-none-any.whl (65kB)\n",
      "\u001b[K     |████████████████████████████████| 71kB 32.8MB/s eta 0:00:01\n",
      "\u001b[?25hCollecting scipy==1.4.1; python_version >= \"3\" (from tensorflow==2.2.0)\n",
      "\u001b[?25l  Downloading https://files.pythonhosted.org/packages/dc/29/162476fd44203116e7980cfbd9352eef9db37c49445d1fec35509022f6aa/scipy-1.4.1-cp36-cp36m-manylinux1_x86_64.whl (26.1MB)\n",
      "\u001b[K     |████████████████████████████████| 26.1MB 43.8MB/s eta 0:00:01\n",
      "\u001b[?25hRequirement already satisfied: numpy<2.0,>=1.16.0 in /home/jupyterlab/conda/envs/python/lib/python3.6/site-packages (from tensorflow==2.2.0) (1.19.5)\n",
      "Collecting keras-preprocessing>=1.1.0 (from tensorflow==2.2.0)\n",
      "\u001b[?25l  Downloading https://files.pythonhosted.org/packages/79/4c/7c3275a01e12ef9368a892926ab932b33bb13d55794881e3573482b378a7/Keras_Preprocessing-1.1.2-py2.py3-none-any.whl (42kB)\n",
      "\u001b[K     |████████████████████████████████| 51kB 8.7MB/s  eta 0:00:01\n",
      "\u001b[?25hCollecting tensorflow-estimator<2.3.0,>=2.2.0 (from tensorflow==2.2.0)\n",
      "\u001b[?25l  Downloading https://files.pythonhosted.org/packages/a4/f5/926ae53d6a226ec0fda5208e0e581cffed895ccc89e36ba76a8e60895b78/tensorflow_estimator-2.2.0-py2.py3-none-any.whl (454kB)\n",
      "\u001b[K     |████████████████████████████████| 460kB 45.5MB/s eta 0:00:01\n",
      "\u001b[?25hCollecting google-pasta>=0.1.8 (from tensorflow==2.2.0)\n",
      "\u001b[?25l  Downloading https://files.pythonhosted.org/packages/a3/de/c648ef6835192e6e2cc03f40b19eeda4382c49b5bafb43d88b931c4c74ac/google_pasta-0.2.0-py3-none-any.whl (57kB)\n",
      "\u001b[K     |████████████████████████████████| 61kB 37.4MB/s eta 0:00:01\n",
      "\u001b[?25hRequirement already satisfied: protobuf>=3.8.0 in /home/jupyterlab/conda/envs/python/lib/python3.6/site-packages (from tensorflow==2.2.0) (3.17.1)\n",
      "Requirement already satisfied: six>=1.12.0 in /home/jupyterlab/conda/envs/python/lib/python3.6/site-packages (from tensorflow==2.2.0) (1.16.0)\n",
      "Collecting astunparse==1.6.3 (from tensorflow==2.2.0)\n",
      "  Downloading https://files.pythonhosted.org/packages/2b/03/13dde6512ad7b4557eb792fbcf0c653af6076b81e5941d36ec61f7ce6028/astunparse-1.6.3-py2.py3-none-any.whl\n",
      "Collecting wrapt>=1.11.1 (from tensorflow==2.2.0)\n",
      "  Using cached https://files.pythonhosted.org/packages/82/f7/e43cefbe88c5fd371f4cf0cf5eb3feccd07515af9fd6cf7dbf1d1793a797/wrapt-1.12.1.tar.gz\n",
      "Collecting h5py<2.11.0,>=2.10.0 (from tensorflow==2.2.0)\n",
      "\u001b[?25l  Downloading https://files.pythonhosted.org/packages/60/06/cafdd44889200e5438b897388f3075b52a8ef01f28a17366d91de0fa2d05/h5py-2.10.0-cp36-cp36m-manylinux1_x86_64.whl (2.9MB)\n",
      "\u001b[K     |████████████████████████████████| 2.9MB 48.2MB/s eta 0:00:01\n",
      "\u001b[?25hRequirement already satisfied: termcolor>=1.1.0 in /home/jupyterlab/conda/envs/python/lib/python3.6/site-packages (from tensorflow==2.2.0) (1.1.0)\n",
      "Collecting gast==0.3.3 (from tensorflow==2.2.0)\n",
      "  Downloading https://files.pythonhosted.org/packages/d6/84/759f5dd23fec8ba71952d97bcc7e2c9d7d63bdc582421f3cd4be845f0c98/gast-0.3.3-py2.py3-none-any.whl\n",
      "Requirement already satisfied: absl-py>=0.7.0 in /home/jupyterlab/conda/envs/python/lib/python3.6/site-packages (from tensorflow==2.2.0) (0.12.0)\n",
      "Requirement already satisfied: grpcio>=1.8.6 in /home/jupyterlab/conda/envs/python/lib/python3.6/site-packages (from tensorflow==2.2.0) (1.24.3)\n",
      "Requirement already satisfied: wheel>=0.26; python_version >= \"3\" in /home/jupyterlab/conda/envs/python/lib/python3.6/site-packages (from tensorflow==2.2.0) (0.36.2)\n",
      "Collecting tensorboard<2.3.0,>=2.2.0 (from tensorflow==2.2.0)\n",
      "\u001b[?25l  Downloading https://files.pythonhosted.org/packages/1d/74/0a6fcb206dcc72a6da9a62dd81784bfdbff5fedb099982861dc2219014fb/tensorboard-2.2.2-py3-none-any.whl (3.0MB)\n",
      "\u001b[K     |████████████████████████████████| 3.0MB 54.0MB/s eta 0:00:01\n",
      "\u001b[?25hRequirement already satisfied: werkzeug>=0.11.15 in /home/jupyterlab/conda/envs/python/lib/python3.6/site-packages (from tensorboard<2.3.0,>=2.2.0->tensorflow==2.2.0) (2.0.1)\n",
      "Requirement already satisfied: markdown>=2.6.8 in /home/jupyterlab/conda/envs/python/lib/python3.6/site-packages (from tensorboard<2.3.0,>=2.2.0->tensorflow==2.2.0) (3.3.4)\n",
      "Requirement already satisfied: requests<3,>=2.21.0 in /home/jupyterlab/conda/envs/python/lib/python3.6/site-packages (from tensorboard<2.3.0,>=2.2.0->tensorflow==2.2.0) (2.25.1)\n",
      "Requirement already satisfied: setuptools>=41.0.0 in /home/jupyterlab/conda/envs/python/lib/python3.6/site-packages (from tensorboard<2.3.0,>=2.2.0->tensorflow==2.2.0) (52.0.0.post20210125)\n",
      "Collecting google-auth<2,>=1.6.3 (from tensorboard<2.3.0,>=2.2.0->tensorflow==2.2.0)\n",
      "\u001b[?25l  Downloading https://files.pythonhosted.org/packages/c7/ef/6594c495bd51e2a9601a3d57d4a796f29bda8be42627613c7976ae587f97/google_auth-1.32.0-py2.py3-none-any.whl (147kB)\n",
      "\u001b[K     |████████████████████████████████| 153kB 57.6MB/s eta 0:00:01\n",
      "\u001b[?25hCollecting tensorboard-plugin-wit>=1.6.0 (from tensorboard<2.3.0,>=2.2.0->tensorflow==2.2.0)\n",
      "\u001b[?25l  Downloading https://files.pythonhosted.org/packages/1a/c1/499e600ba0c618b451cd9c425ae1c177249940a2086316552fee7d86c954/tensorboard_plugin_wit-1.8.0-py3-none-any.whl (781kB)\n",
      "\u001b[K     |████████████████████████████████| 788kB 62.4MB/s eta 0:00:01\n",
      "\u001b[?25hCollecting google-auth-oauthlib<0.5,>=0.4.1 (from tensorboard<2.3.0,>=2.2.0->tensorflow==2.2.0)\n",
      "  Downloading https://files.pythonhosted.org/packages/9d/d3/7541e89f1fc456eef157224f597a8bba22589db6369a03eaba68c11f07a0/google_auth_oauthlib-0.4.4-py2.py3-none-any.whl\n",
      "Requirement already satisfied: dataclasses; python_version < \"3.7\" in /home/jupyterlab/conda/envs/python/lib/python3.6/site-packages (from werkzeug>=0.11.15->tensorboard<2.3.0,>=2.2.0->tensorflow==2.2.0) (0.8)\n",
      "Requirement already satisfied: importlib-metadata; python_version < \"3.8\" in /home/jupyterlab/conda/envs/python/lib/python3.6/site-packages (from markdown>=2.6.8->tensorboard<2.3.0,>=2.2.0->tensorflow==2.2.0) (4.3.0)\n",
      "Requirement already satisfied: idna<3,>=2.5 in /home/jupyterlab/conda/envs/python/lib/python3.6/site-packages (from requests<3,>=2.21.0->tensorboard<2.3.0,>=2.2.0->tensorflow==2.2.0) (2.10)\n",
      "Requirement already satisfied: urllib3<1.27,>=1.21.1 in /home/jupyterlab/conda/envs/python/lib/python3.6/site-packages (from requests<3,>=2.21.0->tensorboard<2.3.0,>=2.2.0->tensorflow==2.2.0) (1.26.5)\n",
      "Requirement already satisfied: certifi>=2017.4.17 in /home/jupyterlab/conda/envs/python/lib/python3.6/site-packages (from requests<3,>=2.21.0->tensorboard<2.3.0,>=2.2.0->tensorflow==2.2.0) (2020.12.5)\n",
      "Requirement already satisfied: chardet<5,>=3.0.2 in /home/jupyterlab/conda/envs/python/lib/python3.6/site-packages (from requests<3,>=2.21.0->tensorboard<2.3.0,>=2.2.0->tensorflow==2.2.0) (4.0.0)\n",
      "Collecting rsa<5,>=3.1.4; python_version >= \"3.6\" (from google-auth<2,>=1.6.3->tensorboard<2.3.0,>=2.2.0->tensorflow==2.2.0)\n",
      "  Using cached https://files.pythonhosted.org/packages/e9/93/0c0f002031f18b53af7a6166103c02b9c0667be528944137cc954ec921b3/rsa-4.7.2-py3-none-any.whl\n",
      "Collecting cachetools<5.0,>=2.0.0 (from google-auth<2,>=1.6.3->tensorboard<2.3.0,>=2.2.0->tensorflow==2.2.0)\n",
      "  Using cached https://files.pythonhosted.org/packages/bf/28/c4f5796c67ad06bb91d98d543a5e01805c1ff065e08871f78e52d2a331ad/cachetools-4.2.2-py3-none-any.whl\n",
      "Requirement already satisfied: pyasn1-modules>=0.2.1 in /home/jupyterlab/conda/envs/python/lib/python3.6/site-packages (from google-auth<2,>=1.6.3->tensorboard<2.3.0,>=2.2.0->tensorflow==2.2.0) (0.2.8)\n",
      "Collecting requests-oauthlib>=0.7.0 (from google-auth-oauthlib<0.5,>=0.4.1->tensorboard<2.3.0,>=2.2.0->tensorflow==2.2.0)\n",
      "  Using cached https://files.pythonhosted.org/packages/a3/12/b92740d845ab62ea4edf04d2f4164d82532b5a0b03836d4d4e71c6f3d379/requests_oauthlib-1.3.0-py2.py3-none-any.whl\n",
      "Requirement already satisfied: zipp>=0.5 in /home/jupyterlab/conda/envs/python/lib/python3.6/site-packages (from importlib-metadata; python_version < \"3.8\"->markdown>=2.6.8->tensorboard<2.3.0,>=2.2.0->tensorflow==2.2.0) (3.4.1)\n",
      "Requirement already satisfied: typing-extensions>=3.6.4; python_version < \"3.8\" in /home/jupyterlab/conda/envs/python/lib/python3.6/site-packages (from importlib-metadata; python_version < \"3.8\"->markdown>=2.6.8->tensorboard<2.3.0,>=2.2.0->tensorflow==2.2.0) (3.7.4.3)\n",
      "Requirement already satisfied: pyasn1>=0.1.3 in /home/jupyterlab/conda/envs/python/lib/python3.6/site-packages (from rsa<5,>=3.1.4; python_version >= \"3.6\"->google-auth<2,>=1.6.3->tensorboard<2.3.0,>=2.2.0->tensorflow==2.2.0) (0.4.8)\n",
      "Collecting oauthlib>=3.0.0 (from requests-oauthlib>=0.7.0->google-auth-oauthlib<0.5,>=0.4.1->tensorboard<2.3.0,>=2.2.0->tensorflow==2.2.0)\n",
      "\u001b[?25l  Downloading https://files.pythonhosted.org/packages/e8/5d/9dd1c29e5a786525f6342f6c1d812ed2e37edc653ad297048c1668988053/oauthlib-3.1.1-py2.py3-none-any.whl (146kB)\n",
      "\u001b[K     |████████████████████████████████| 153kB 62.0MB/s eta 0:00:01\n",
      "\u001b[?25hBuilding wheels for collected packages: wrapt\n",
      "  Building wheel for wrapt (setup.py) ... \u001b[?25ldone\n",
      "\u001b[?25h  Stored in directory: /home/jupyterlab/.cache/pip/wheels/b1/c2/ed/d62208260edbd3fa7156545c00ef966f45f2063d0a84f8208a\n",
      "Successfully built wrapt\n",
      "Installing collected packages: opt-einsum, scipy, keras-preprocessing, tensorflow-estimator, google-pasta, astunparse, wrapt, h5py, gast, rsa, cachetools, google-auth, tensorboard-plugin-wit, oauthlib, requests-oauthlib, google-auth-oauthlib, tensorboard, tensorflow\n",
      "  Found existing installation: scipy 1.5.3\n",
      "    Uninstalling scipy-1.5.3:\n",
      "      Successfully uninstalled scipy-1.5.3\n",
      "  Found existing installation: h5py 2.8.0\n",
      "    Uninstalling h5py-2.8.0:\n",
      "      Successfully uninstalled h5py-2.8.0\n",
      "  Found existing installation: gast 0.4.0\n",
      "    Uninstalling gast-0.4.0:\n",
      "      Successfully uninstalled gast-0.4.0\n",
      "  Found existing installation: tensorboard 1.8.0\n",
      "    Uninstalling tensorboard-1.8.0:\n",
      "      Successfully uninstalled tensorboard-1.8.0\n",
      "  Found existing installation: tensorflow 1.8.0\n",
      "    Uninstalling tensorflow-1.8.0:\n",
      "      Successfully uninstalled tensorflow-1.8.0\n",
      "Successfully installed astunparse-1.6.3 cachetools-4.2.2 gast-0.3.3 google-auth-1.32.0 google-auth-oauthlib-0.4.4 google-pasta-0.2.0 h5py-2.10.0 keras-preprocessing-1.1.2 oauthlib-3.1.1 opt-einsum-3.3.0 requests-oauthlib-1.3.0 rsa-4.7.2 scipy-1.4.1 tensorboard-2.2.2 tensorboard-plugin-wit-1.8.0 tensorflow-2.2.0 tensorflow-estimator-2.2.0 wrapt-1.12.1\n",
      "Requirement already satisfied: pillow in /home/jupyterlab/conda/envs/python/lib/python3.6/site-packages (8.2.0)\n"
     ]
    }
   ],
   "source": [
    "!pip install grpcio==1.24.3\n",
    "!pip install tensorflow==2.2.0\n",
    "!pip install pillow"
   ]
  },
  {
   "cell_type": "markdown",
   "metadata": {},
   "source": [
    "<b>Notice:</b> This notebook has been created with TensorFlow version 2.2, and might not work with other versions. Therefore we check:\n"
   ]
  },
  {
   "cell_type": "code",
   "execution_count": 3,
   "metadata": {},
   "outputs": [],
   "source": [
    "import tensorflow as tf\n",
    "from IPython.display import Markdown, display\n",
    "\n",
    "def printmd(string):\n",
    "    display(Markdown('# <span style=\"color:red\">'+string+'</span>'))\n",
    "\n",
    "\n",
    "if not tf.__version__ == '2.2.0':\n",
    "    printmd('<<<<<!!!!! ERROR !!!! please upgrade to TensorFlow 2.2.0, or restart your Kernel (Kernel->Restart & Clear Output)>>>>>')"
   ]
  },
  {
   "cell_type": "markdown",
   "metadata": {},
   "source": [
    "Now, we load in all the packages that we use to create the net including the TensorFlow package:\n"
   ]
  },
  {
   "cell_type": "code",
   "execution_count": 4,
   "metadata": {},
   "outputs": [],
   "source": [
    "import tensorflow as tf\n",
    "import numpy as np\n",
    "\n",
    "from PIL import Image\n",
    "from utils import tile_raster_images\n",
    "import matplotlib.pyplot as plt\n",
    "%matplotlib inline"
   ]
  },
  {
   "cell_type": "markdown",
   "metadata": {},
   "source": [
    "<hr>\n"
   ]
  },
  {
   "cell_type": "markdown",
   "metadata": {},
   "source": [
    "<a id=\"ref2\"></a>\n",
    "\n",
    "<h3>RBM layers</h3>\n",
    "\n",
    "An RBM has two layers. The first layer of the RBM is called the <b>visible</b> (or input layer). Imagine that our toy example, has only vectors with 7 values, so the visible layer must have $V=7$ input nodes. \n",
    "The second layer is the <b>hidden</b> layer, which has $H$ neurons in our case. Each hidden node takes on values of either 0 or 1 (i.e., $h_i = 1$ or $h_i$ = 0), with a probability that is a logistic function of the inputs it receives from the other $V$ visible units, called for example, $p(h_i = 1)$. For our toy sample, we'll use 2 nodes in the hidden layer, so $H = 2$.\n",
    "\n",
    "<center><img src=\"https://ibm.box.com/shared/static/eu26opvcefgls6vnwuo29uwp0nudmokh.png\" alt=\"RBM Model\" style=\"width: 400px;\"></center>\n"
   ]
  },
  {
   "cell_type": "markdown",
   "metadata": {},
   "source": [
    "Each node in the first layer also has a <b>bias</b>. We will denote the bias as $v_{bias}$, and this single value is shared among the $V$ visible units.\n",
    "\n",
    "The <b>bias</b> of the second is defined similarly as $h_{bias}$, and this single value among the $H$ hidden units.\n"
   ]
  },
  {
   "cell_type": "code",
   "execution_count": 5,
   "metadata": {},
   "outputs": [],
   "source": [
    "v_bias = tf.Variable(tf.zeros([7]), tf.float32)\n",
    "h_bias = tf.Variable(tf.zeros([2]), tf.float32)"
   ]
  },
  {
   "cell_type": "markdown",
   "metadata": {},
   "source": [
    "We have to define weights among the input layer and hidden layer nodes. In the weight matrix, the number of rows are equal to the input nodes, and the number of columns are equal to the output nodes. We define a tensor $\\mathbf{W}$ of shape = (7,2), where the number of visible neurons = 7, and the number of hidden neurons = 2. \n"
   ]
  },
  {
   "cell_type": "code",
   "execution_count": 6,
   "metadata": {},
   "outputs": [],
   "source": [
    "W = tf.constant(np.random.normal(loc=0.0, scale=1.0, size=(7, 2)).astype(np.float32))"
   ]
  },
  {
   "cell_type": "markdown",
   "metadata": {},
   "source": [
    "<hr>\n"
   ]
  },
  {
   "cell_type": "markdown",
   "metadata": {},
   "source": [
    "<a id=\"ref3\"></a>\n",
    "\n",
    "<h3>What RBM can do after training?</h3>\n",
    "Think of RBM as a model that has been trained based on images of a dataset of many SUV and sedan cars. Also, imagine that the RBM network has only two hidden nodes, where one node encodes the weight and, and the other encodes the size.  \n",
    "In a sense, the different configurations represent different cars, where one is an SUV and the other is Sedan.  In a training process, through many forward and backward passes, the RBM adjust its weights to send a stronger signal to either the SUV node (0, 1) or the sedan node (1, 0) in the hidden layer, given the pixels of images. Now, given an SUV in hidden layer, which distribution of pixels should we expect? RBM can give you 2 things. First, it encodes your images in hidden layer. Second, it gives you the probability of observing a case, given some hidden values.\n",
    "\n",
    "<h3>The Inference Process</h3>\n",
    "\n",
    "RBM has two phases:\n",
    "\n",
    "<ul>\n",
    "    <li>Forward Pass</li>  \n",
    "    <li>Backward Pass or Reconstruction</li>\n",
    "</ul>\n",
    "\n",
    "<b>Phase 1) Forward pass:</b>  \n",
    "\n",
    "Input one training sample (one image) $\\mathbf{x}$ through all visible nodes, and pass it to all hidden nodes. Processing happens in each node in the hidden layer. This computation begins by making stochastic decisions about whether to transmit that input or not (i.e. to determine the state of each hidden layer).  First, the probability vector is computed using the input feature vector $\\mathbf{x}$, the weight matrix $\\mathbf{W}$, and the bias term $h_{bias}$, as \n",
    "\n",
    "$p({h_j}|\\mathbf x)= \\sigma(\\sum_{i=1}^V W_{ij} x_i + h_{bias} )$, \n",
    "\n",
    "where $\\sigma(z) = (1+e^{-z})^{-1}$ is the logistic function.\n",
    "\n",
    "So, what does $p({h_j})$ represent? It is the <b>probability distribution</b> of the hidden units. That is, RBM uses inputs $x_i$ to make predictions about hidden node activations. For example, imagine that the hidden node activation values are [0.51 0.84] for the first training item. It tells you that the conditional probability for each hidden neuron for Phase 1 is: \n",
    "\n",
    "$$p(h_{1} = 1|\\mathbf{v}) = 0.51$$\n",
    "$$p(h_{2} = 1|\\mathbf{v}) = 0.84$$\n",
    "\n",
    "As a result, for each row in the training set, vector of probabilities is generated.  In TensorFlow, this is referred to as a `tensor` with a shape of (1,2). \n",
    "\n",
    "We then turn unit $j$ with probability $p(h_{j}|\\mathbf{v})$, and turn it off with probability $1 - p(h_{j}|\\mathbf{v})$ by generating a uniform random number vector $\\mathbf{\\xi}$, and comparing it to the activation probability as \n",
    "\n",
    "<center>If $\\xi_j>p(h_{j}|\\mathbf{v})$, then $h_j=1$, else $h_j=0$.</center>\n",
    "\n",
    "Therefore, the conditional probability of a configuration of $\\mathbf{h}$ given $\\mathbf{v}$ (for a training sample) is:\n",
    "\n",
    "$$p(\\mathbf{h} \\mid \\mathbf{v}) = \\prod_{j=1}^H p(h_j \\mid \\mathbf{v})$$\n",
    "\n",
    "where $H$ is the number of hidden units.\n"
   ]
  },
  {
   "cell_type": "markdown",
   "metadata": {},
   "source": [
    "Before we go further, let's look at a toy example for one case out of all input. Assume that we have a trained RBM, and a very simple input vector, such as [1.0, 0.0, 0.0, 1.0, 0.0, 0.0, 0.0].  \n",
    "Let's see what the output of forward pass would look like:\n"
   ]
  },
  {
   "cell_type": "code",
   "execution_count": 7,
   "metadata": {},
   "outputs": [
    {
     "name": "stdout",
     "output_type": "stream",
     "text": [
      "Input:  tf.Tensor([[1. 0. 0. 1. 0. 0. 0.]], shape=(1, 7), dtype=float32)\n",
      "hb:  tf.Tensor([0.1 0.1], shape=(2,), dtype=float32)\n",
      "w:  tf.Tensor(\n",
      "[[ 0.26738635 -1.0371952 ]\n",
      " [-0.6866408  -0.6063879 ]\n",
      " [-0.56835043 -0.39839107]\n",
      " [-1.7680898   0.25653765]\n",
      " [-0.9592387  -0.43090063]\n",
      " [ 0.3308705  -2.4151275 ]\n",
      " [ 0.649731   -0.24083044]], shape=(7, 2), dtype=float32)\n",
      "p(h|v):  tf.Tensor([[0.19770451 0.3361146 ]], shape=(1, 2), dtype=float32)\n",
      "h0 states: tf.Tensor([[0. 0.]], shape=(1, 2), dtype=float32)\n"
     ]
    }
   ],
   "source": [
    "X = tf.constant([[1.0, 0.0, 0.0, 1.0, 0.0, 0.0, 0.0]], tf.float32)\n",
    "\n",
    "v_state = X\n",
    "print (\"Input: \", v_state)\n",
    "\n",
    "h_bias = tf.constant([0.1, 0.1])\n",
    "print (\"hb: \", h_bias)\n",
    "print (\"w: \", W)\n",
    "\n",
    "# Calculate the probabilities of turning the hidden units on:\n",
    "h_prob = tf.nn.sigmoid(tf.matmul(v_state, W) + h_bias)  #probabilities of the hidden units\n",
    "print (\"p(h|v): \", h_prob)\n",
    "\n",
    "# Draw samples from the distribution:\n",
    "h_state = tf.nn.relu(tf.sign(h_prob - tf.random.uniform(tf.shape(h_prob)))) #states\n",
    "print (\"h0 states:\", h_state)"
   ]
  },
  {
   "cell_type": "markdown",
   "metadata": {},
   "source": [
    "<b>Phase 2) Backward Pass (Reconstruction):</b>\n",
    "The RBM reconstructs data by making several forward and backward passes between the visible and hidden layers.\n",
    "\n",
    "So, in the second phase (i.e. reconstruction phase), the samples from the hidden layer (i.e. $\\mathbf h$) becomes the input in the backward pass. The same weight matrix and visible layer biases are used to passed to the sigmoid function. The reproduced output is a reconstruction which is an approximation of the original input.\n"
   ]
  },
  {
   "cell_type": "code",
   "execution_count": 8,
   "metadata": {},
   "outputs": [
    {
     "name": "stdout",
     "output_type": "stream",
     "text": [
      "b:  tf.Tensor([0.1 0.2 0.1 0.1 0.1 0.2 0.1], shape=(7,), dtype=float32)\n",
      "p(vi∣h):  tf.Tensor(\n",
      "[[0.5249792  0.54983395 0.5249792  0.5249792  0.5249792  0.54983395\n",
      "  0.5249792 ]], shape=(1, 7), dtype=float32)\n",
      "v probability states:  tf.Tensor([[1. 0. 0. 0. 1. 0. 1.]], shape=(1, 7), dtype=float32)\n"
     ]
    }
   ],
   "source": [
    "vb = tf.constant([0.1, 0.2, 0.1, 0.1, 0.1, 0.2, 0.1])\n",
    "print (\"b: \", vb)\n",
    "v_prob = tf.nn.sigmoid(tf.matmul(h_state, tf.transpose(W)) + vb)\n",
    "print (\"p(vi∣h): \", v_prob)\n",
    "v_state = tf.nn.relu(tf.sign(v_prob - tf.random.uniform(tf.shape(v_prob))))\n",
    "print (\"v probability states: \", v_state)"
   ]
  },
  {
   "cell_type": "markdown",
   "metadata": {},
   "source": [
    "RBM learns a probability distribution over the input, and then, after being trained, the RBM can generate new samples from the learned probability distribution. As you know, <b>probability distribution</b>, is a mathematical function that provides the probabilities of occurrence of different possible outcomes in an experiment.\n",
    "\n",
    "The (conditional) probability distribution over the visible units v is given by\n",
    "\n",
    "$p(\\mathbf{v} \\mid \\mathbf{h}) = \\prod_{i=1}^V p(v_i \\mid \\mathbf{h}),$\n",
    "\n",
    "where,\n",
    "\n",
    "$p(v_i \\mid \\mathbf{h}) = \\sigma\\left(\\sum_{j=1}^H W_{ji} h_j + v_{bias} \\right)$\n",
    "\n",
    "so, given current state of hidden units and weights, what is the probability of generating [1. 0. 0. 1. 0. 0. 0.] in reconstruction phase, based on the above <b>probability distribution</b> function?\n"
   ]
  },
  {
   "cell_type": "code",
   "execution_count": 9,
   "metadata": {},
   "outputs": [
    {
     "name": "stdout",
     "output_type": "stream",
     "text": [
      "input X: [[1. 0. 0. 1. 0. 0. 0.]]\n",
      "probablity vector: [0.5249792  0.54983395 0.5249792  0.5249792  0.5249792  0.54983395\n",
      " 0.5249792 ]\n",
      "probability of generating X:  0.0059864256\n"
     ]
    }
   ],
   "source": [
    "inp = X\n",
    "print(\"input X:\" , inp.numpy())\n",
    "\n",
    "print(\"probablity vector:\" , v_prob[0].numpy())\n",
    "v_probability = 1\n",
    "\n",
    "for elm, p in zip(inp[0],v_prob[0]) :\n",
    "    if elm ==1:\n",
    "        v_probability *= p\n",
    "    else:\n",
    "        v_probability *= (1-p)\n",
    "\n",
    "print(\"probability of generating X: \" , v_probability.numpy())"
   ]
  },
  {
   "cell_type": "markdown",
   "metadata": {},
   "source": [
    "How similar are vectors $\\mathbf{x}$ and $\\mathbf{v}$? Of course, the reconstructed values most likely will not look anything like the input vector, because our network has not been trained yet. Our objective is to train the model in such a way that the input vector and reconstructed vector to be same. Therefore, based on how different the input values look to the ones that we just reconstructed, the weights are adjusted. \n"
   ]
  },
  {
   "cell_type": "markdown",
   "metadata": {},
   "source": [
    "<hr>\n"
   ]
  },
  {
   "cell_type": "markdown",
   "metadata": {},
   "source": [
    "<h2>MNIST</h2>\n"
   ]
  },
  {
   "cell_type": "markdown",
   "metadata": {},
   "source": [
    "We will be using the MNIST dataset to practice the usage of RBMs. The following cell loads the MNIST dataset.\n"
   ]
  },
  {
   "cell_type": "code",
   "execution_count": 10,
   "metadata": {},
   "outputs": [
    {
     "name": "stdout",
     "output_type": "stream",
     "text": [
      "Downloading data from https://storage.googleapis.com/tensorflow/tf-keras-datasets/mnist.npz\n",
      "11493376/11490434 [==============================] - 0s 0us/step\n"
     ]
    }
   ],
   "source": [
    "#loading training and test data\n",
    "mnist = tf.keras.datasets.mnist\n",
    "(trX, trY), (teX, teY) = mnist.load_data()\n",
    "\n",
    "# showing an example of the Flatten class and operation\n",
    "from tensorflow.keras.layers import Flatten\n",
    "flatten = Flatten(dtype='float32')\n",
    "trX = flatten(trX/255.0)\n",
    "trY = flatten(trY/255.0)"
   ]
  },
  {
   "cell_type": "markdown",
   "metadata": {},
   "source": [
    "Lets look at the dimension of the images.\n"
   ]
  },
  {
   "cell_type": "markdown",
   "metadata": {},
   "source": [
    "MNIST images have 784 pixels, so the visible layer must have 784 input nodes.  For our case, we'll use 50 nodes in the hidden layer, so i = 50.\n"
   ]
  },
  {
   "cell_type": "code",
   "execution_count": 11,
   "metadata": {
    "tags": []
   },
   "outputs": [],
   "source": [
    "vb = tf.Variable(tf.zeros([784]), tf.float32)\n",
    "hb = tf.Variable(tf.zeros([50]), tf.float32)"
   ]
  },
  {
   "cell_type": "markdown",
   "metadata": {},
   "source": [
    "Let $\\mathbf W$ be the Tensor of 784x50 (784 - number of visible neurons, 50 - number of hidden neurons) that represents weights between the neurons. \n"
   ]
  },
  {
   "cell_type": "code",
   "execution_count": 12,
   "metadata": {
    "tags": []
   },
   "outputs": [],
   "source": [
    "W = tf.Variable(tf.zeros([784,50]), tf.float32)"
   ]
  },
  {
   "cell_type": "markdown",
   "metadata": {},
   "source": [
    "Lets define the visible layer:\n"
   ]
  },
  {
   "cell_type": "code",
   "execution_count": 13,
   "metadata": {},
   "outputs": [
    {
     "data": {
      "text/plain": [
       "<tf.Tensor: shape=(1, 50), dtype=float32, numpy=\n",
       "array([[0., 0., 0., 0., 0., 0., 0., 0., 0., 0., 0., 0., 0., 0., 0., 0.,\n",
       "        0., 0., 0., 0., 0., 0., 0., 0., 0., 0., 0., 0., 0., 0., 0., 0.,\n",
       "        0., 0., 0., 0., 0., 0., 0., 0., 0., 0., 0., 0., 0., 0., 0., 0.,\n",
       "        0., 0.]], dtype=float32)>"
      ]
     },
     "execution_count": 13,
     "metadata": {},
     "output_type": "execute_result"
    }
   ],
   "source": [
    "v0_state = tf.Variable(tf.zeros([784]), tf.float32)\n",
    "\n",
    "#testing to see if the matrix product works\n",
    "tf.matmul( [v0_state], W)"
   ]
  },
  {
   "cell_type": "markdown",
   "metadata": {},
   "source": [
    "Now, we can define hidden layer:\n"
   ]
  },
  {
   "cell_type": "code",
   "execution_count": 14,
   "metadata": {},
   "outputs": [
    {
     "name": "stdout",
     "output_type": "stream",
     "text": [
      "h0_state shape:  tf.Tensor([ 1 50], shape=(2,), dtype=int32)\n",
      "first 15 hidden states:  tf.Tensor([0. 0. 1. 1. 0. 0. 0. 0. 0. 1. 0. 1. 0. 1. 1.], shape=(15,), dtype=float32)\n"
     ]
    }
   ],
   "source": [
    "#computing the hidden nodes probability vector and checking shape\n",
    "h0_prob = tf.nn.sigmoid(tf.matmul([v0_state], W) + hb)  #probabilities of the hidden units\n",
    "print(\"h0_state shape: \" , tf.shape(h0_prob))\n",
    "\n",
    "#defining a function to return only the generated hidden states \n",
    "def hidden_layer(v0_state, W, hb):\n",
    "    h0_prob = tf.nn.sigmoid(tf.matmul([v0_state], W) + hb)  #probabilities of the hidden units\n",
    "    h0_state = tf.nn.relu(tf.sign(h0_prob - tf.random.uniform(tf.shape(h0_prob)))) #sample_h_given_X\n",
    "    return h0_state\n",
    "\n",
    "\n",
    "h0_state = hidden_layer(v0_state, W, hb)\n",
    "print(\"first 15 hidden states: \", h0_state[0][0:15])"
   ]
  },
  {
   "cell_type": "markdown",
   "metadata": {},
   "source": [
    "Now, we define reconstruction part:\n"
   ]
  },
  {
   "cell_type": "code",
   "execution_count": 15,
   "metadata": {},
   "outputs": [
    {
     "name": "stdout",
     "output_type": "stream",
     "text": [
      "hidden state shape:  (1, 50)\n",
      "v0 state shape:   (784,)\n",
      "v1 state shape:   (784,)\n"
     ]
    }
   ],
   "source": [
    "def reconstructed_output(h0_state, W, vb):\n",
    "    v1_prob = tf.nn.sigmoid(tf.matmul(h0_state, tf.transpose(W)) + vb) \n",
    "    v1_state = tf.nn.relu(tf.sign(v1_prob - tf.random.uniform(tf.shape(v1_prob)))) #sample_v_given_h\n",
    "    return v1_state[0]\n",
    "\n",
    "v1_state = reconstructed_output(h0_state, W, vb)\n",
    "print(\"hidden state shape: \", h0_state.shape)\n",
    "print(\"v0 state shape:  \", v0_state.shape)\n",
    "print(\"v1 state shape:  \", v1_state.shape)"
   ]
  },
  {
   "cell_type": "markdown",
   "metadata": {},
   "source": [
    "<h3>What is the objective function?</h3>\n",
    "\n",
    "<b>Goal</b>: Maximize the likelihood of our data being drawn from that distribution\n",
    "\n",
    "<b>Calculate error:</b>  \n",
    "In each epoch, we compute the \"error\" as a sum of the squared difference between step 1 and step n,\n",
    "e.g the error shows the difference between the data and its reconstruction.\n",
    "\n",
    "<b>Note:</b> tf.reduce_mean computes the mean of elements across dimensions of a tensor.\n"
   ]
  },
  {
   "cell_type": "code",
   "execution_count": 16,
   "metadata": {},
   "outputs": [
    {
     "name": "stdout",
     "output_type": "stream",
     "text": [
      "error 0.49489796\n"
     ]
    }
   ],
   "source": [
    "def error(v0_state, v1_state):\n",
    "    return tf.reduce_mean(tf.square(v0_state - v1_state))\n",
    "\n",
    "err = tf.reduce_mean(tf.square(v0_state - v1_state))\n",
    "print(\"error\" , err.numpy())"
   ]
  },
  {
   "cell_type": "markdown",
   "metadata": {},
   "source": [
    "<a id=\"ref4\"></a>\n",
    "\n",
    "<h3>Training the Model</h3>\n",
    "<b>Warning...</b> The following part is math-heavy, but you can skip it if you just want to run the cells in the next section.\n",
    "\n",
    "As mentioned, we want to give a high probability to the input data we train on. So, in order to train an RBM, we have to maximize the product of probabilities assigned to all rows $\\mathbf{v}$ (images) in the training set $\\mathbf{V}$ (a matrix, where each row of it is treated as a visible vector $\\mathbf{v}$)\n",
    "\n",
    "$$\\arg\\max_W\\prod_{\\mathbf{v}\\in\\mathbf{V}_T}p(\\mathbf{v}),$$\n",
    "\n",
    "which is equivalent to maximizing the expectation of the log probability, given as\n",
    "\n",
    "$$\\arg\\max_W\\left[ \\mathbb{E} \\left(\\prod_{\\mathbf v\\in \\mathbf V}\\text{log} \\left(p(\\mathbf v)\\right) \\right) \\right].$$\n",
    "\n",
    "So, we have to update the weights $W_{ij}$  to increase $p(\\mathbf{v})$ for all $\\mathbf{v}$ in our training data during training. So we have to calculate the derivative:\n",
    "\n",
    "$$\\frac{\\partial \\log p(\\mathbf v)}{\\partial W_{ij}}$$\n",
    "\n",
    "This cannot be easily done by typical <b>gradient descent (SGD)</b>, so we can use another approach, which has 2 steps:\n",
    "\n",
    "<ol>\n",
    "    <li>Gibbs Sampling</li>\n",
    "    <li>Contrastive Divergence</li>\n",
    "</ol>    \n",
    "    \n",
    "<h3>Gibbs Sampling</h3>   \n",
    "\n",
    "<h4>Gibbs Sampling Step 1</h4> \n",
    "Given an input vector $\\mathbf{v}$, we are using $p(\\mathbf{h}|\\mathbf{v})$ to predict the hidden values $\\mathbf{h}$. \n",
    "  $$p({h_j}|\\mathbf v)= \\sigma\\left(\\sum_{i=1}^V W_{ij} v_i + h_{bias} \\right)$$\n",
    "The samples are generated from this distribution by generating the uniform random variate vector $\\mathbf{\\xi} \\sim U[0,1]$ of length $H$ and comparing to the computed probabilities as\n",
    "\n",
    "<center>If $\\xi_j>p(h_{j}|\\mathbf{v})$, then $h_j=1$, else $h_j=0$.</center>\n",
    "\n",
    "<h4>Gibbs Sampling Step 2</h4> \n",
    "Then, knowing the hidden values, we use $p(\\mathbf v| \\mathbf h)$ for reconstructing of new input values v. \n",
    "\n",
    "   $$p({v_i}|\\mathbf h)= \\sigma\\left(\\sum_{j=1}^H W^{T}_{ij} h_j + v_{bias} \\right)$$\n",
    "\n",
    "The samples are generated from this distribution by generating a uniform random variate vector $\\mathbf{\\xi} \\sim U[0,1]$ of length $V$ and comparing to the computed probabilities as\n",
    "\n",
    "<center>If $\\xi_i>p(v_{i}|\\mathbf{h})$, then $v_i=1$, else $v_i=0$.</center>\n",
    "\n",
    "Let vectors $\\mathbf v_k$ and $\\mathbf h_k$ be for the $k$th iteration.  In general, the $kth$ state is generrated as: \n",
    "\n",
    "<b>Iteration</b> $k$: \n",
    "\n",
    "$$\\mathbf v_{k-1} \\Rightarrow p(\\mathbf h_{k-1}|\\mathbf v_{k-1})\\Rightarrow \\mathbf h_{k-1}\\Rightarrow p(\\mathbf v_{k}|\\mathbf h_{k-1})\\Rightarrow \\mathbf v_k$$       \n",
    "\n",
    "<h3>Contrastive Divergence (CD-k)</h3>\n",
    "The update of the weight matrix is done during the Contrastive Divergence step. \n",
    "\n",
    "Vectors v0 and vk are used to calculate the activation probabilities for hidden values h0 and hk. The difference between the outer products of those probabilities with input vectors v0 and vk results in the update matrix:\n",
    "\n",
    "$\\Delta \\mathbf W_k =\\mathbf v_k \\otimes \\mathbf h_k - \\mathbf v_{k-1} \\otimes \\mathbf h_{k-1}$ \n",
    "\n",
    "Contrastive Divergence is actually matrix of values that is computed and used to adjust values of the $\\mathbf W$ matrix. Changing $\\mathbf W$ incrementally leads to training of the  $\\mathbf W$ values. Then, on each step (epoch), $\\mathbf W$ is updated using the following:\n",
    "\n",
    "$\\mathbf W_k = \\mathbf W_{k-1} + \\alpha * \\Delta \\mathbf W_k$ \n",
    "\n",
    "Reconstruction steps:\n",
    "\n",
    "<ul>\n",
    "    <li> Get one data point from data set, like <i>x</i>, and pass it through the following steps:</li>\n",
    "    \n",
    "<b>Iteration</b> $k=1$: \n",
    "    \n",
    "Sampling (starting with input image)\n",
    "    $$\\mathbf x = \\mathbf v_0 \\Rightarrow p(\\mathbf h_0|\\mathbf v_0)\\Rightarrow \\mathbf h_0 \\Rightarrow p(\\mathbf v_1|\\mathbf h_0)\\Rightarrow \\mathbf v_1$$   \n",
    "    followed by the CD-k step\n",
    "$$\\Delta \\mathbf W_1 =\\mathbf v_1 \\otimes \\mathbf h_1 - \\mathbf v_{0} \\otimes \\mathbf h_{0}$$     \n",
    "$$\\mathbf W_1 = \\mathbf W_{0} + \\alpha * \\Delta \\mathbf W_1$$ \n",
    " \n",
    "<li> $\\mathbf v_1$ is the reconstruction of $\\mathbf x$ sent to the next iteration).</li>\n",
    "\n",
    "<b>Iteration</b> $k=2$: \n",
    "\n",
    "Sampling (starting with $\\mathbf v_1$)\n",
    "\n",
    "$$\\mathbf v_1 \\Rightarrow p(\\mathbf h_1|\\mathbf v_1)\\Rightarrow \\mathbf h_1\\Rightarrow p(\\mathbf v_2|\\mathbf h_1)\\Rightarrow \\mathbf v_2$$   \n",
    "\n",
    "followed by the CD-k step\n",
    "$$\\Delta \\mathbf W_2 =\\mathbf v_2 \\otimes \\mathbf h_2 - \\mathbf v_{1} \\otimes \\mathbf h_{1}$$  \n",
    "$$\\mathbf W_2 = \\mathbf W_{1} + \\alpha * \\Delta \\mathbf W_2$$ \n",
    "\n",
    "<li> $\\mathbf v_2$ is the reconstruction of $\\mathbf v_1$ sent to the next iteration).</li>    \n",
    "      \n",
    "<b>Iteration</b> $k=K$:\n",
    "    \n",
    "Sampling (starting with $\\mathbf v_{K-1}$)\n",
    "\n",
    "$$\\mathbf v_{K-1} \\Rightarrow p(\\mathbf h_{K-1}|\\mathbf v_{K-1})\\Rightarrow \\mathbf h_{K-1}\\Rightarrow p(\\mathbf v_K|\\mathbf h_{K-1})\\Rightarrow \\mathbf v_K$$   \n",
    "\n",
    "followed by the CD-k step\n",
    "$$\\Delta \\mathbf W_K =\\mathbf v_K \\otimes \\mathbf h_K - \\mathbf v_{K-1} \\otimes \\mathbf h_{K-1}$$  \n",
    "$$\\mathbf W_K = \\mathbf W_{K-1} + \\alpha * \\Delta \\mathbf W_K$$ \n",
    "\n",
    "<b>What is $\\alpha$?</b>  \n",
    "Here, alpha is some small step size, and is also known as the \"learning rate\".\n"
   ]
  },
  {
   "cell_type": "markdown",
   "metadata": {},
   "source": [
    "$K$ is adjustable, and good performance can be achieved with $K=1$, so that we just take one set of sampling steps per image.\n"
   ]
  },
  {
   "cell_type": "code",
   "execution_count": 17,
   "metadata": {},
   "outputs": [],
   "source": [
    "h1_prob = tf.nn.sigmoid(tf.matmul([v1_state], W) + hb)\n",
    "h1_state = tf.nn.relu(tf.sign(h1_prob - tf.random.uniform(tf.shape(h1_prob)))) #sample_h_given_X"
   ]
  },
  {
   "cell_type": "markdown",
   "metadata": {},
   "source": [
    "Lets look at the error of the first run:\n"
   ]
  },
  {
   "cell_type": "code",
   "execution_count": 18,
   "metadata": {},
   "outputs": [
    {
     "name": "stdout",
     "output_type": "stream",
     "text": [
      "error:  tf.Tensor(0.49489796, shape=(), dtype=float32)\n"
     ]
    }
   ],
   "source": [
    "print(\"error: \", error(v0_state, v1_state))"
   ]
  },
  {
   "cell_type": "code",
   "execution_count": 19,
   "metadata": {},
   "outputs": [
    {
     "name": "stdout",
     "output_type": "stream",
     "text": [
      "Epoch: 0 batch #: 1  of 300 sample #: 199 reconstruction error: 0.161147\n",
      "Epoch: 0 batch #: 2  of 300 sample #: 199 reconstruction error: 0.216924\n",
      "Epoch: 0 batch #: 3  of 300 sample #: 199 reconstruction error: 0.126427\n",
      "Epoch: 0 batch #: 4  of 300 sample #: 199 reconstruction error: 0.130013\n",
      "Epoch: 0 batch #: 5  of 300 sample #: 199 reconstruction error: 0.095186\n",
      "Epoch: 0 batch #: 6  of 300 sample #: 199 reconstruction error: 0.159118\n",
      "Epoch: 0 batch #: 7  of 300 sample #: 199 reconstruction error: 0.095372\n",
      "Epoch: 0 batch #: 8  of 300 sample #: 199 reconstruction error: 0.119044\n",
      "Epoch: 0 batch #: 9  of 300 sample #: 199 reconstruction error: 0.104299\n",
      "Epoch: 0 batch #: 10  of 300 sample #: 199 reconstruction error: 0.171114\n",
      "Epoch: 0 batch #: 11  of 300 sample #: 199 reconstruction error: 0.091091\n",
      "Epoch: 0 batch #: 12  of 300 sample #: 199 reconstruction error: 0.144169\n",
      "Epoch: 0 batch #: 13  of 300 sample #: 199 reconstruction error: 0.071326\n",
      "Epoch: 0 batch #: 14  of 300 sample #: 199 reconstruction error: 0.101827\n",
      "Epoch: 0 batch #: 15  of 300 sample #: 199 reconstruction error: 0.121144\n",
      "Epoch: 0 batch #: 16  of 300 sample #: 199 reconstruction error: 0.118212\n",
      "Epoch: 0 batch #: 17  of 300 sample #: 199 reconstruction error: 0.063003\n",
      "Epoch: 0 batch #: 18  of 300 sample #: 199 reconstruction error: 0.107400\n",
      "Epoch: 0 batch #: 19  of 300 sample #: 199 reconstruction error: 0.128036\n",
      "Epoch: 0 batch #: 20  of 300 sample #: 199 reconstruction error: 0.104072\n",
      "Epoch: 0 batch #: 21  of 300 sample #: 199 reconstruction error: 0.083316\n",
      "Epoch: 0 batch #: 22  of 300 sample #: 199 reconstruction error: 0.085262\n",
      "Epoch: 0 batch #: 23  of 300 sample #: 199 reconstruction error: 0.111825\n",
      "Epoch: 0 batch #: 24  of 300 sample #: 199 reconstruction error: 0.144827\n",
      "Epoch: 0 batch #: 25  of 300 sample #: 199 reconstruction error: 0.106647\n",
      "Epoch: 0 batch #: 26  of 300 sample #: 199 reconstruction error: 0.102308\n",
      "Epoch: 0 batch #: 27  of 300 sample #: 199 reconstruction error: 0.104286\n",
      "Epoch: 0 batch #: 28  of 300 sample #: 199 reconstruction error: 0.094054\n",
      "Epoch: 0 batch #: 29  of 300 sample #: 199 reconstruction error: 0.080633\n",
      "Epoch: 0 batch #: 30  of 300 sample #: 199 reconstruction error: 0.084837\n",
      "Epoch: 0 batch #: 31  of 300 sample #: 199 reconstruction error: 0.102763\n",
      "Epoch: 0 batch #: 32  of 300 sample #: 199 reconstruction error: 0.137076\n",
      "Epoch: 0 batch #: 33  of 300 sample #: 199 reconstruction error: 0.059322\n",
      "Epoch: 0 batch #: 34  of 300 sample #: 199 reconstruction error: 0.068898\n",
      "Epoch: 0 batch #: 35  of 300 sample #: 199 reconstruction error: 0.068058\n",
      "Epoch: 0 batch #: 36  of 300 sample #: 199 reconstruction error: 0.098249\n",
      "Epoch: 0 batch #: 37  of 300 sample #: 199 reconstruction error: 0.060823\n",
      "Epoch: 0 batch #: 38  of 300 sample #: 199 reconstruction error: 0.080552\n",
      "Epoch: 0 batch #: 39  of 300 sample #: 199 reconstruction error: 0.090976\n",
      "Epoch: 0 batch #: 40  of 300 sample #: 199 reconstruction error: 0.114245\n",
      "Epoch: 0 batch #: 41  of 300 sample #: 199 reconstruction error: 0.076727\n",
      "Epoch: 0 batch #: 42  of 300 sample #: 199 reconstruction error: 0.060207\n",
      "Epoch: 0 batch #: 43  of 300 sample #: 199 reconstruction error: 0.126584\n",
      "Epoch: 0 batch #: 44  of 300 sample #: 199 reconstruction error: 0.072596\n",
      "Epoch: 0 batch #: 45  of 300 sample #: 199 reconstruction error: 0.060472\n",
      "Epoch: 0 batch #: 46  of 300 sample #: 199 reconstruction error: 0.028520\n",
      "Epoch: 0 batch #: 47  of 300 sample #: 199 reconstruction error: 0.039530\n",
      "Epoch: 0 batch #: 48  of 300 sample #: 199 reconstruction error: 0.035910\n",
      "Epoch: 0 batch #: 49  of 300 sample #: 199 reconstruction error: 0.131866\n",
      "Epoch: 0 batch #: 50  of 300 sample #: 199 reconstruction error: 0.053444\n",
      "Epoch: 0 batch #: 51  of 300 sample #: 199 reconstruction error: 0.067733\n",
      "Epoch: 0 batch #: 52  of 300 sample #: 199 reconstruction error: 0.031954\n",
      "Epoch: 0 batch #: 53  of 300 sample #: 199 reconstruction error: 0.097249\n",
      "Epoch: 0 batch #: 54  of 300 sample #: 199 reconstruction error: 0.054805\n",
      "Epoch: 0 batch #: 55  of 300 sample #: 199 reconstruction error: 0.112306\n",
      "Epoch: 0 batch #: 56  of 300 sample #: 199 reconstruction error: 0.054780\n",
      "Epoch: 0 batch #: 57  of 300 sample #: 199 reconstruction error: 0.043288\n",
      "Epoch: 0 batch #: 58  of 300 sample #: 199 reconstruction error: 0.087497\n",
      "Epoch: 0 batch #: 59  of 300 sample #: 199 reconstruction error: 0.050283\n",
      "Epoch: 0 batch #: 60  of 300 sample #: 199 reconstruction error: 0.097571\n",
      "Epoch: 0 batch #: 61  of 300 sample #: 199 reconstruction error: 0.074194\n",
      "Epoch: 0 batch #: 62  of 300 sample #: 199 reconstruction error: 0.078933\n",
      "Epoch: 0 batch #: 63  of 300 sample #: 199 reconstruction error: 0.055261\n",
      "Epoch: 0 batch #: 64  of 300 sample #: 199 reconstruction error: 0.084362\n",
      "Epoch: 0 batch #: 65  of 300 sample #: 199 reconstruction error: 0.089691\n",
      "Epoch: 0 batch #: 66  of 300 sample #: 199 reconstruction error: 0.061801\n",
      "Epoch: 0 batch #: 67  of 300 sample #: 199 reconstruction error: 0.050675\n",
      "Epoch: 0 batch #: 68  of 300 sample #: 199 reconstruction error: 0.059442\n",
      "Epoch: 0 batch #: 69  of 300 sample #: 199 reconstruction error: 0.069827\n",
      "Epoch: 0 batch #: 70  of 300 sample #: 199 reconstruction error: 0.094122\n",
      "Epoch: 0 batch #: 71  of 300 sample #: 199 reconstruction error: 0.087259\n",
      "Epoch: 0 batch #: 72  of 300 sample #: 199 reconstruction error: 0.062831\n",
      "Epoch: 0 batch #: 73  of 300 sample #: 199 reconstruction error: 0.090245\n",
      "Epoch: 0 batch #: 74  of 300 sample #: 199 reconstruction error: 0.100907\n",
      "Epoch: 0 batch #: 75  of 300 sample #: 199 reconstruction error: 0.053295\n",
      "Epoch: 0 batch #: 76  of 300 sample #: 199 reconstruction error: 0.072429\n",
      "Epoch: 0 batch #: 77  of 300 sample #: 199 reconstruction error: 0.094351\n",
      "Epoch: 0 batch #: 78  of 300 sample #: 199 reconstruction error: 0.110837\n",
      "Epoch: 0 batch #: 79  of 300 sample #: 199 reconstruction error: 0.133797\n",
      "Epoch: 0 batch #: 80  of 300 sample #: 199 reconstruction error: 0.028049\n",
      "Epoch: 0 batch #: 81  of 300 sample #: 199 reconstruction error: 0.052765\n",
      "Epoch: 0 batch #: 82  of 300 sample #: 199 reconstruction error: 0.050809\n",
      "Epoch: 0 batch #: 83  of 300 sample #: 199 reconstruction error: 0.078746\n",
      "Epoch: 0 batch #: 84  of 300 sample #: 199 reconstruction error: 0.089007\n",
      "Epoch: 0 batch #: 85  of 300 sample #: 199 reconstruction error: 0.058873\n",
      "Epoch: 0 batch #: 86  of 300 sample #: 199 reconstruction error: 0.078816\n",
      "Epoch: 0 batch #: 87  of 300 sample #: 199 reconstruction error: 0.071069\n",
      "Epoch: 0 batch #: 88  of 300 sample #: 199 reconstruction error: 0.028577\n",
      "Epoch: 0 batch #: 89  of 300 sample #: 199 reconstruction error: 0.058728\n",
      "Epoch: 0 batch #: 90  of 300 sample #: 199 reconstruction error: 0.072734\n",
      "Epoch: 0 batch #: 91  of 300 sample #: 199 reconstruction error: 0.059055\n",
      "Epoch: 0 batch #: 92  of 300 sample #: 199 reconstruction error: 0.075562\n",
      "Epoch: 0 batch #: 93  of 300 sample #: 199 reconstruction error: 0.105689\n",
      "Epoch: 0 batch #: 94  of 300 sample #: 199 reconstruction error: 0.113810\n",
      "Epoch: 0 batch #: 95  of 300 sample #: 199 reconstruction error: 0.064075\n",
      "Epoch: 0 batch #: 96  of 300 sample #: 199 reconstruction error: 0.060228\n",
      "Epoch: 0 batch #: 97  of 300 sample #: 199 reconstruction error: 0.089649\n",
      "Epoch: 0 batch #: 98  of 300 sample #: 199 reconstruction error: 0.090430\n",
      "Epoch: 0 batch #: 99  of 300 sample #: 199 reconstruction error: 0.065249\n",
      "Epoch: 0 batch #: 100  of 300 sample #: 199 reconstruction error: 0.085178\n",
      "Epoch: 0 batch #: 101  of 300 sample #: 199 reconstruction error: 0.083241\n",
      "Epoch: 0 batch #: 102  of 300 sample #: 199 reconstruction error: 0.081341\n",
      "Epoch: 0 batch #: 103  of 300 sample #: 199 reconstruction error: 0.085562\n",
      "Epoch: 0 batch #: 104  of 300 sample #: 199 reconstruction error: 0.076210\n",
      "Epoch: 0 batch #: 105  of 300 sample #: 199 reconstruction error: 0.055824\n",
      "Epoch: 0 batch #: 106  of 300 sample #: 199 reconstruction error: 0.115025\n",
      "Epoch: 0 batch #: 107  of 300 sample #: 199 reconstruction error: 0.133611\n",
      "Epoch: 0 batch #: 108  of 300 sample #: 199 reconstruction error: 0.066526\n",
      "Epoch: 0 batch #: 109  of 300 sample #: 199 reconstruction error: 0.109605\n",
      "Epoch: 0 batch #: 110  of 300 sample #: 199 reconstruction error: 0.059822\n",
      "Epoch: 0 batch #: 111  of 300 sample #: 199 reconstruction error: 0.101592\n",
      "Epoch: 0 batch #: 112  of 300 sample #: 199 reconstruction error: 0.035629\n",
      "Epoch: 0 batch #: 113  of 300 sample #: 199 reconstruction error: 0.080111\n",
      "Epoch: 0 batch #: 114  of 300 sample #: 199 reconstruction error: 0.067686\n",
      "Epoch: 0 batch #: 115  of 300 sample #: 199 reconstruction error: 0.049226\n",
      "Epoch: 0 batch #: 116  of 300 sample #: 199 reconstruction error: 0.046714\n",
      "Epoch: 0 batch #: 117  of 300 sample #: 199 reconstruction error: 0.038931\n",
      "Epoch: 0 batch #: 118  of 300 sample #: 199 reconstruction error: 0.071730\n",
      "Epoch: 0 batch #: 119  of 300 sample #: 199 reconstruction error: 0.119831\n",
      "Epoch: 0 batch #: 120  of 300 sample #: 199 reconstruction error: 0.080588\n",
      "Epoch: 0 batch #: 121  of 300 sample #: 199 reconstruction error: 0.034724\n",
      "Epoch: 0 batch #: 122  of 300 sample #: 199 reconstruction error: 0.112752\n",
      "Epoch: 0 batch #: 123  of 300 sample #: 199 reconstruction error: 0.088508\n",
      "Epoch: 0 batch #: 124  of 300 sample #: 199 reconstruction error: 0.066266\n",
      "Epoch: 0 batch #: 125  of 300 sample #: 199 reconstruction error: 0.038539\n",
      "Epoch: 0 batch #: 126  of 300 sample #: 199 reconstruction error: 0.080926\n",
      "Epoch: 0 batch #: 127  of 300 sample #: 199 reconstruction error: 0.078915\n",
      "Epoch: 0 batch #: 128  of 300 sample #: 199 reconstruction error: 0.052846\n",
      "Epoch: 0 batch #: 129  of 300 sample #: 199 reconstruction error: 0.057833\n",
      "Epoch: 0 batch #: 130  of 300 sample #: 199 reconstruction error: 0.078400\n",
      "Epoch: 0 batch #: 131  of 300 sample #: 199 reconstruction error: 0.072151\n",
      "Epoch: 0 batch #: 132  of 300 sample #: 199 reconstruction error: 0.047821\n",
      "Epoch: 0 batch #: 133  of 300 sample #: 199 reconstruction error: 0.060732\n",
      "Epoch: 0 batch #: 134  of 300 sample #: 199 reconstruction error: 0.098603\n",
      "Epoch: 0 batch #: 135  of 300 sample #: 199 reconstruction error: 0.094633\n",
      "Epoch: 0 batch #: 136  of 300 sample #: 199 reconstruction error: 0.087574\n",
      "Epoch: 0 batch #: 137  of 300 sample #: 199 reconstruction error: 0.070567\n",
      "Epoch: 0 batch #: 138  of 300 sample #: 199 reconstruction error: 0.086468\n",
      "Epoch: 0 batch #: 139  of 300 sample #: 199 reconstruction error: 0.102467\n",
      "Epoch: 0 batch #: 140  of 300 sample #: 199 reconstruction error: 0.070109\n",
      "Epoch: 0 batch #: 141  of 300 sample #: 199 reconstruction error: 0.092634\n",
      "Epoch: 0 batch #: 142  of 300 sample #: 199 reconstruction error: 0.060901\n",
      "Epoch: 0 batch #: 143  of 300 sample #: 199 reconstruction error: 0.053945\n",
      "Epoch: 0 batch #: 144  of 300 sample #: 199 reconstruction error: 0.068843\n",
      "Epoch: 0 batch #: 145  of 300 sample #: 199 reconstruction error: 0.078666\n",
      "Epoch: 0 batch #: 146  of 300 sample #: 199 reconstruction error: 0.105480\n",
      "Epoch: 0 batch #: 147  of 300 sample #: 199 reconstruction error: 0.088222\n",
      "Epoch: 0 batch #: 148  of 300 sample #: 199 reconstruction error: 0.091506\n",
      "Epoch: 0 batch #: 149  of 300 sample #: 199 reconstruction error: 0.044182\n",
      "Epoch: 0 batch #: 150  of 300 sample #: 199 reconstruction error: 0.051058\n",
      "Epoch: 0 batch #: 151  of 300 sample #: 199 reconstruction error: 0.125014\n",
      "Epoch: 0 batch #: 152  of 300 sample #: 199 reconstruction error: 0.102457\n",
      "Epoch: 0 batch #: 153  of 300 sample #: 199 reconstruction error: 0.047997\n",
      "Epoch: 0 batch #: 154  of 300 sample #: 199 reconstruction error: 0.074447\n",
      "Epoch: 0 batch #: 155  of 300 sample #: 199 reconstruction error: 0.063243\n",
      "Epoch: 0 batch #: 156  of 300 sample #: 199 reconstruction error: 0.075992\n",
      "Epoch: 0 batch #: 157  of 300 sample #: 199 reconstruction error: 0.088272\n",
      "Epoch: 0 batch #: 158  of 300 sample #: 199 reconstruction error: 0.064622\n",
      "Epoch: 0 batch #: 159  of 300 sample #: 199 reconstruction error: 0.054840\n",
      "Epoch: 0 batch #: 160  of 300 sample #: 199 reconstruction error: 0.077866\n",
      "Epoch: 0 batch #: 161  of 300 sample #: 199 reconstruction error: 0.077178\n",
      "Epoch: 0 batch #: 162  of 300 sample #: 199 reconstruction error: 0.109207\n",
      "Epoch: 0 batch #: 163  of 300 sample #: 199 reconstruction error: 0.035890\n",
      "Epoch: 0 batch #: 164  of 300 sample #: 199 reconstruction error: 0.059023\n",
      "Epoch: 0 batch #: 165  of 300 sample #: 199 reconstruction error: 0.079224\n",
      "Epoch: 0 batch #: 166  of 300 sample #: 199 reconstruction error: 0.058415\n",
      "Epoch: 0 batch #: 167  of 300 sample #: 199 reconstruction error: 0.087665\n",
      "Epoch: 0 batch #: 168  of 300 sample #: 199 reconstruction error: 0.064062\n",
      "Epoch: 0 batch #: 169  of 300 sample #: 199 reconstruction error: 0.047855\n",
      "Epoch: 0 batch #: 170  of 300 sample #: 199 reconstruction error: 0.055077\n",
      "Epoch: 0 batch #: 171  of 300 sample #: 199 reconstruction error: 0.029505\n",
      "Epoch: 0 batch #: 172  of 300 sample #: 199 reconstruction error: 0.050512\n",
      "Epoch: 0 batch #: 173  of 300 sample #: 199 reconstruction error: 0.085219\n",
      "Epoch: 0 batch #: 174  of 300 sample #: 199 reconstruction error: 0.113870\n",
      "Epoch: 0 batch #: 175  of 300 sample #: 199 reconstruction error: 0.065540\n",
      "Epoch: 0 batch #: 176  of 300 sample #: 199 reconstruction error: 0.044831\n",
      "Epoch: 0 batch #: 177  of 300 sample #: 199 reconstruction error: 0.028554\n",
      "Epoch: 0 batch #: 178  of 300 sample #: 199 reconstruction error: 0.115444\n",
      "Epoch: 0 batch #: 179  of 300 sample #: 199 reconstruction error: 0.085453\n",
      "Epoch: 0 batch #: 180  of 300 sample #: 199 reconstruction error: 0.081701\n",
      "Epoch: 0 batch #: 181  of 300 sample #: 199 reconstruction error: 0.092676\n",
      "Epoch: 0 batch #: 182  of 300 sample #: 199 reconstruction error: 0.075276\n",
      "Epoch: 0 batch #: 183  of 300 sample #: 199 reconstruction error: 0.115351\n",
      "Epoch: 0 batch #: 184  of 300 sample #: 199 reconstruction error: 0.064003\n",
      "Epoch: 0 batch #: 185  of 300 sample #: 199 reconstruction error: 0.078065\n",
      "Epoch: 0 batch #: 186  of 300 sample #: 199 reconstruction error: 0.111332\n",
      "Epoch: 0 batch #: 187  of 300 sample #: 199 reconstruction error: 0.053482\n",
      "Epoch: 0 batch #: 188  of 300 sample #: 199 reconstruction error: 0.103467\n",
      "Epoch: 0 batch #: 189  of 300 sample #: 199 reconstruction error: 0.067222\n",
      "Epoch: 0 batch #: 190  of 300 sample #: 199 reconstruction error: 0.067335\n",
      "Epoch: 0 batch #: 191  of 300 sample #: 199 reconstruction error: 0.111060\n",
      "Epoch: 0 batch #: 192  of 300 sample #: 199 reconstruction error: 0.129578\n",
      "Epoch: 0 batch #: 193  of 300 sample #: 199 reconstruction error: 0.080795\n",
      "Epoch: 0 batch #: 194  of 300 sample #: 199 reconstruction error: 0.082895\n",
      "Epoch: 0 batch #: 195  of 300 sample #: 199 reconstruction error: 0.047954\n",
      "Epoch: 0 batch #: 196  of 300 sample #: 199 reconstruction error: 0.044652\n",
      "Epoch: 0 batch #: 197  of 300 sample #: 199 reconstruction error: 0.055025\n",
      "Epoch: 0 batch #: 198  of 300 sample #: 199 reconstruction error: 0.102094\n",
      "Epoch: 0 batch #: 199  of 300 sample #: 199 reconstruction error: 0.083545\n",
      "Epoch: 0 batch #: 200  of 300 sample #: 199 reconstruction error: 0.107798\n",
      "Epoch: 0 batch #: 201  of 300 sample #: 199 reconstruction error: 0.084345\n",
      "Epoch: 0 batch #: 202  of 300 sample #: 199 reconstruction error: 0.033890\n",
      "Epoch: 0 batch #: 203  of 300 sample #: 199 reconstruction error: 0.101871\n",
      "Epoch: 0 batch #: 204  of 300 sample #: 199 reconstruction error: 0.040855\n",
      "Epoch: 0 batch #: 205  of 300 sample #: 199 reconstruction error: 0.030804\n",
      "Epoch: 0 batch #: 206  of 300 sample #: 199 reconstruction error: 0.071566\n",
      "Epoch: 0 batch #: 207  of 300 sample #: 199 reconstruction error: 0.074925\n",
      "Epoch: 0 batch #: 208  of 300 sample #: 199 reconstruction error: 0.047767\n",
      "Epoch: 0 batch #: 209  of 300 sample #: 199 reconstruction error: 0.036013\n",
      "Epoch: 0 batch #: 210  of 300 sample #: 199 reconstruction error: 0.126783\n",
      "Epoch: 0 batch #: 211  of 300 sample #: 199 reconstruction error: 0.111517\n",
      "Epoch: 0 batch #: 212  of 300 sample #: 199 reconstruction error: 0.088233\n",
      "Epoch: 0 batch #: 213  of 300 sample #: 199 reconstruction error: 0.097321\n",
      "Epoch: 0 batch #: 214  of 300 sample #: 199 reconstruction error: 0.093420\n",
      "Epoch: 0 batch #: 215  of 300 sample #: 199 reconstruction error: 0.040827\n",
      "Epoch: 0 batch #: 216  of 300 sample #: 199 reconstruction error: 0.095180\n",
      "Epoch: 0 batch #: 217  of 300 sample #: 199 reconstruction error: 0.072303\n",
      "Epoch: 0 batch #: 218  of 300 sample #: 199 reconstruction error: 0.067791\n",
      "Epoch: 0 batch #: 219  of 300 sample #: 199 reconstruction error: 0.077419\n",
      "Epoch: 0 batch #: 220  of 300 sample #: 199 reconstruction error: 0.063377\n",
      "Epoch: 0 batch #: 221  of 300 sample #: 199 reconstruction error: 0.113528\n",
      "Epoch: 0 batch #: 222  of 300 sample #: 199 reconstruction error: 0.088147\n",
      "Epoch: 0 batch #: 223  of 300 sample #: 199 reconstruction error: 0.057707\n",
      "Epoch: 0 batch #: 224  of 300 sample #: 199 reconstruction error: 0.069953\n",
      "Epoch: 0 batch #: 225  of 300 sample #: 199 reconstruction error: 0.066802\n",
      "Epoch: 0 batch #: 226  of 300 sample #: 199 reconstruction error: 0.129493\n",
      "Epoch: 0 batch #: 227  of 300 sample #: 199 reconstruction error: 0.066652\n",
      "Epoch: 0 batch #: 228  of 300 sample #: 199 reconstruction error: 0.068511\n",
      "Epoch: 0 batch #: 229  of 300 sample #: 199 reconstruction error: 0.072113\n",
      "Epoch: 0 batch #: 230  of 300 sample #: 199 reconstruction error: 0.043002\n",
      "Epoch: 0 batch #: 231  of 300 sample #: 199 reconstruction error: 0.025704\n",
      "Epoch: 0 batch #: 232  of 300 sample #: 199 reconstruction error: 0.080618\n",
      "Epoch: 0 batch #: 233  of 300 sample #: 199 reconstruction error: 0.068664\n",
      "Epoch: 0 batch #: 234  of 300 sample #: 199 reconstruction error: 0.066998\n",
      "Epoch: 0 batch #: 235  of 300 sample #: 199 reconstruction error: 0.083090\n",
      "Epoch: 0 batch #: 236  of 300 sample #: 199 reconstruction error: 0.097650\n",
      "Epoch: 0 batch #: 237  of 300 sample #: 199 reconstruction error: 0.074913\n",
      "Epoch: 0 batch #: 238  of 300 sample #: 199 reconstruction error: 0.102205\n",
      "Epoch: 0 batch #: 239  of 300 sample #: 199 reconstruction error: 0.028530\n",
      "Epoch: 0 batch #: 240  of 300 sample #: 199 reconstruction error: 0.100477\n",
      "Epoch: 0 batch #: 241  of 300 sample #: 199 reconstruction error: 0.084956\n",
      "Epoch: 0 batch #: 242  of 300 sample #: 199 reconstruction error: 0.069269\n",
      "Epoch: 0 batch #: 243  of 300 sample #: 199 reconstruction error: 0.063232\n",
      "Epoch: 0 batch #: 244  of 300 sample #: 199 reconstruction error: 0.086305\n",
      "Epoch: 0 batch #: 245  of 300 sample #: 199 reconstruction error: 0.065944\n",
      "Epoch: 0 batch #: 246  of 300 sample #: 199 reconstruction error: 0.087099\n",
      "Epoch: 0 batch #: 247  of 300 sample #: 199 reconstruction error: 0.050237\n",
      "Epoch: 0 batch #: 248  of 300 sample #: 199 reconstruction error: 0.072289\n",
      "Epoch: 0 batch #: 249  of 300 sample #: 199 reconstruction error: 0.042910\n",
      "Epoch: 0 batch #: 250  of 300 sample #: 199 reconstruction error: 0.082634\n",
      "Epoch: 0 batch #: 251  of 300 sample #: 199 reconstruction error: 0.036036\n",
      "Epoch: 0 batch #: 252  of 300 sample #: 199 reconstruction error: 0.074529\n",
      "Epoch: 0 batch #: 253  of 300 sample #: 199 reconstruction error: 0.046061\n",
      "Epoch: 0 batch #: 254  of 300 sample #: 199 reconstruction error: 0.021735\n",
      "Epoch: 0 batch #: 255  of 300 sample #: 199 reconstruction error: 0.048410\n",
      "Epoch: 0 batch #: 256  of 300 sample #: 199 reconstruction error: 0.095977\n",
      "Epoch: 0 batch #: 257  of 300 sample #: 199 reconstruction error: 0.095060\n",
      "Epoch: 0 batch #: 258  of 300 sample #: 199 reconstruction error: 0.085487\n",
      "Epoch: 0 batch #: 259  of 300 sample #: 199 reconstruction error: 0.060207\n",
      "Epoch: 0 batch #: 260  of 300 sample #: 199 reconstruction error: 0.094202\n",
      "Epoch: 0 batch #: 261  of 300 sample #: 199 reconstruction error: 0.036298\n",
      "Epoch: 0 batch #: 262  of 300 sample #: 199 reconstruction error: 0.051697\n",
      "Epoch: 0 batch #: 263  of 300 sample #: 199 reconstruction error: 0.086715\n",
      "Epoch: 0 batch #: 264  of 300 sample #: 199 reconstruction error: 0.077881\n",
      "Epoch: 0 batch #: 265  of 300 sample #: 199 reconstruction error: 0.059984\n",
      "Epoch: 0 batch #: 266  of 300 sample #: 199 reconstruction error: 0.035889\n",
      "Epoch: 0 batch #: 267  of 300 sample #: 199 reconstruction error: 0.058177\n",
      "Epoch: 0 batch #: 268  of 300 sample #: 199 reconstruction error: 0.017587\n",
      "Epoch: 0 batch #: 269  of 300 sample #: 199 reconstruction error: 0.104919\n",
      "Epoch: 0 batch #: 270  of 300 sample #: 199 reconstruction error: 0.085788\n",
      "Epoch: 0 batch #: 271  of 300 sample #: 199 reconstruction error: 0.050425\n",
      "Epoch: 0 batch #: 272  of 300 sample #: 199 reconstruction error: 0.064257\n",
      "Epoch: 0 batch #: 273  of 300 sample #: 199 reconstruction error: 0.048575\n",
      "Epoch: 0 batch #: 274  of 300 sample #: 199 reconstruction error: 0.044663\n",
      "Epoch: 0 batch #: 275  of 300 sample #: 199 reconstruction error: 0.091843\n",
      "Epoch: 0 batch #: 276  of 300 sample #: 199 reconstruction error: 0.061056\n",
      "Epoch: 0 batch #: 277  of 300 sample #: 199 reconstruction error: 0.073124\n",
      "Epoch: 0 batch #: 278  of 300 sample #: 199 reconstruction error: 0.076767\n",
      "Epoch: 0 batch #: 279  of 300 sample #: 199 reconstruction error: 0.049095\n",
      "Epoch: 0 batch #: 280  of 300 sample #: 199 reconstruction error: 0.070661\n",
      "Epoch: 0 batch #: 281  of 300 sample #: 199 reconstruction error: 0.071128\n",
      "Epoch: 0 batch #: 282  of 300 sample #: 199 reconstruction error: 0.099113\n",
      "Epoch: 0 batch #: 283  of 300 sample #: 199 reconstruction error: 0.052179\n",
      "Epoch: 0 batch #: 284  of 300 sample #: 199 reconstruction error: 0.050017\n",
      "Epoch: 0 batch #: 285  of 300 sample #: 199 reconstruction error: 0.064490\n",
      "Epoch: 0 batch #: 286  of 300 sample #: 199 reconstruction error: 0.079902\n",
      "Epoch: 0 batch #: 287  of 300 sample #: 199 reconstruction error: 0.068308\n",
      "Epoch: 0 batch #: 288  of 300 sample #: 199 reconstruction error: 0.030929\n",
      "Epoch: 0 batch #: 289  of 300 sample #: 199 reconstruction error: 0.085977\n",
      "Epoch: 0 batch #: 290  of 300 sample #: 199 reconstruction error: 0.098934\n",
      "Epoch: 0 batch #: 291  of 300 sample #: 199 reconstruction error: 0.101080\n",
      "Epoch: 0 batch #: 292  of 300 sample #: 199 reconstruction error: 0.064600\n",
      "Epoch: 0 batch #: 293  of 300 sample #: 199 reconstruction error: 0.053929\n",
      "Epoch: 0 batch #: 294  of 300 sample #: 199 reconstruction error: 0.080810\n",
      "Epoch: 0 batch #: 295  of 300 sample #: 199 reconstruction error: 0.067064\n",
      "Epoch: 0 batch #: 296  of 300 sample #: 199 reconstruction error: 0.030970\n",
      "Epoch: 0 batch #: 297  of 300 sample #: 199 reconstruction error: 0.104687\n",
      "Epoch: 0 batch #: 298  of 300 sample #: 199 reconstruction error: 0.055023\n",
      "Epoch: 0 batch #: 299  of 300 sample #: 199 reconstruction error: 0.061365\n",
      "Epoch: 0 batch #: 300  of 300 sample #: 199 reconstruction error: 0.073241\n"
     ]
    }
   ],
   "source": [
    "#Parameters\n",
    "alpha = 0.01\n",
    "epochs = 1\n",
    "batchsize = 200\n",
    "weights = []\n",
    "errors = []\n",
    "batch_number = 0\n",
    "K = 1\n",
    "\n",
    "#creating datasets\n",
    "train_ds = \\\n",
    "    tf.data.Dataset.from_tensor_slices((trX, trY)).batch(batchsize)\n",
    "\n",
    "for epoch in range(epochs):\n",
    "    for batch_x, batch_y in train_ds:\n",
    "        batch_number += 1\n",
    "        for i_sample in range(batchsize):           \n",
    "            for k in range(K):\n",
    "                v0_state = batch_x[i_sample]\n",
    "                h0_state = hidden_layer(v0_state, W, hb)\n",
    "                v1_state = reconstructed_output(h0_state, W, vb)\n",
    "                h1_state = hidden_layer(v1_state, W, hb)\n",
    "\n",
    "                delta_W = tf.matmul(tf.transpose([v0_state]), h0_state) - tf.matmul(tf.transpose([v1_state]), h1_state)\n",
    "                W = W + alpha * delta_W\n",
    "\n",
    "                vb = vb + alpha * tf.reduce_mean(v0_state - v1_state, 0)\n",
    "                hb = hb + alpha * tf.reduce_mean(h0_state - h1_state, 0) \n",
    "\n",
    "                v0_state = v1_state\n",
    "\n",
    "            if i_sample == batchsize-1:\n",
    "                err = error(batch_x[i_sample], v1_state)\n",
    "                errors.append(err)\n",
    "                weights.append(W)\n",
    "                print ( 'Epoch: %d' % epoch, \n",
    "                       \"batch #: %i \" % batch_number, \"of %i\" % int(60e3/batchsize), \n",
    "                       \"sample #: %i\" % i_sample,\n",
    "                       'reconstruction error: %f' % err)\n",
    "\n"
   ]
  },
  {
   "cell_type": "markdown",
   "metadata": {},
   "source": [
    "Let's take a look at the errors at the end of each batch:\n"
   ]
  },
  {
   "cell_type": "code",
   "execution_count": 20,
   "metadata": {},
   "outputs": [
    {
     "data": {
      "image/png": "[encoded data removed]",
      "text/plain": [
       "<Figure size 432x288 with 1 Axes>"
      ]
     },
     "metadata": {
      "needs_background": "light"
     },
     "output_type": "display_data"
    }
   ],
   "source": [
    "plt.plot(errors)\n",
    "plt.xlabel(\"Batch Number\")\n",
    "plt.ylabel(\"Error\")\n",
    "plt.show()"
   ]
  },
  {
   "cell_type": "markdown",
   "metadata": {},
   "source": [
    "What is the final weight matrix $W$ after training?\n"
   ]
  },
  {
   "cell_type": "code",
   "execution_count": 21,
   "metadata": {},
   "outputs": [
    {
     "name": "stdout",
     "output_type": "stream",
     "text": [
      "[[-0.27       -0.29       -0.25000003 ... -0.4799998  -0.57999974\n",
      "  -0.5399998 ]\n",
      " [-0.22000003 -0.26000002 -0.22000003 ... -0.25000003 -0.41999987\n",
      "  -0.3899999 ]\n",
      " [-0.20000002 -0.29999998 -0.11999998 ... -0.33999994 -0.5199998\n",
      "  -0.4899998 ]\n",
      " ...\n",
      " [-0.29999998 -0.31999996 -0.20000002 ... -0.28       -0.5399998\n",
      "  -0.44999984]\n",
      " [-0.17       -0.29       -0.21000002 ... -0.30999997 -0.58999974\n",
      "  -0.46999982]\n",
      " [-0.22000003 -0.34999993 -0.20000002 ... -0.29999998 -0.5199998\n",
      "  -0.4999998 ]]\n"
     ]
    }
   ],
   "source": [
    "print(W.numpy()) # a weight matrix of shape (50,784)"
   ]
  },
  {
   "cell_type": "markdown",
   "metadata": {},
   "source": [
    "<a id=\"ref5\"></a>\n",
    "\n",
    "<h3>Learned features</h3> \n"
   ]
  },
  {
   "cell_type": "markdown",
   "metadata": {},
   "source": [
    "We can take each hidden unit and visualize the connections between that hidden unit and each element in the input vector. In our case, we have 50 hidden units. Lets visualize those.\n"
   ]
  },
  {
   "cell_type": "markdown",
   "metadata": {},
   "source": [
    "Let's plot the current weights:\n",
    "<b>tile_raster_images</b> helps in generating an easy to grasp image from a set of samples or weights. It transforms the <b>uw</b> (with one flattened image per row of size 784), into an array (of size $28\\times28$) in which images are reshaped and laid out like tiles on a floor.\n"
   ]
  },
  {
   "cell_type": "code",
   "execution_count": 22,
   "metadata": {},
   "outputs": [
    {
     "data": {
      "image/png": "[encoded data removed]",
      "text/plain": [
       "<Figure size 1296x1296 with 1 Axes>"
      ]
     },
     "metadata": {
      "needs_background": "light"
     },
     "output_type": "display_data"
    }
   ],
   "source": [
    "tile_raster_images(X=W.numpy().T, img_shape=(28, 28), tile_shape=(5, 10), tile_spacing=(1, 1))\n",
    "import matplotlib.pyplot as plt\n",
    "from PIL import Image\n",
    "%matplotlib inline\n",
    "image = Image.fromarray(tile_raster_images(X=W.numpy().T, img_shape=(28, 28) ,tile_shape=(5, 10), tile_spacing=(1, 1)))\n",
    "### Plot image\n",
    "plt.rcParams['figure.figsize'] = (18.0, 18.0)\n",
    "imgplot = plt.imshow(image)\n",
    "imgplot.set_cmap('gray')  "
   ]
  },
  {
   "cell_type": "markdown",
   "metadata": {},
   "source": [
    "Each tile in the above visualization corresponds to a vector of connections between a hidden unit and visible layer's units. \n"
   ]
  },
  {
   "cell_type": "markdown",
   "metadata": {},
   "source": [
    "Let's look at one of the learned weights corresponding to one of hidden units for example. In this particular square, the gray color represents weight = 0, and the whiter it is, the more positive the weights are (closer to 1). Conversely, the darker pixels are, the more negative the weights. The positive pixels will increase the probability of activation in hidden units (after multiplying by input/visible pixels), and negative pixels will decrease the probability of a unit hidden to be 1 (activated). So, why is this important?  So we can see that this specific square (hidden unit) can detect a feature (e.g. a \"/\" shape) and if it exists in the input.\n"
   ]
  },
  {
   "cell_type": "code",
   "execution_count": 23,
   "metadata": {},
   "outputs": [
    {
     "data": {
      "image/png": "[encoded data removed]",
      "text/plain": [
       "<Figure size 288x288 with 1 Axes>"
      ]
     },
     "metadata": {
      "needs_background": "light"
     },
     "output_type": "display_data"
    }
   ],
   "source": [
    "from PIL import Image\n",
    "image = Image.fromarray(tile_raster_images(X =W.numpy().T[10:11], img_shape=(28, 28),tile_shape=(1, 1), tile_spacing=(1, 1)))\n",
    "### Plot image\n",
    "plt.rcParams['figure.figsize'] = (4.0, 4.0)\n",
    "imgplot = plt.imshow(image)\n",
    "imgplot.set_cmap('gray')  "
   ]
  },
  {
   "cell_type": "markdown",
   "metadata": {},
   "source": [
    "Let's look at the reconstruction of an image now. Imagine that we have a destructed image of figure 3. Lets see if our trained network can fix it:\n",
    "\n",
    "First we plot the image:\n"
   ]
  },
  {
   "cell_type": "code",
   "execution_count": 24,
   "metadata": {},
   "outputs": [
    {
     "name": "stdout",
     "output_type": "stream",
     "text": [
      "--2021-06-27 23:26:26--  https://ibm.box.com/shared/static/vvm1b63uvuxq88vbw9znpwu5ol380mco.jpg\n",
      "Resolving ibm.box.com (ibm.box.com)... 107.152.29.197\n",
      "Connecting to ibm.box.com (ibm.box.com)|107.152.29.197|:443... connected.\n",
      "HTTP request sent, awaiting response... 301 Moved Permanently\n",
      "Location: /public/static/vvm1b63uvuxq88vbw9znpwu5ol380mco.jpg [following]\n",
      "--2021-06-27 23:26:26--  https://ibm.box.com/public/static/vvm1b63uvuxq88vbw9znpwu5ol380mco.jpg\n",
      "Reusing existing connection to ibm.box.com:443.\n",
      "HTTP request sent, awaiting response... 301 Moved Permanently\n",
      "Location: https://ibm.ent.box.com/public/static/vvm1b63uvuxq88vbw9znpwu5ol380mco.jpg [following]\n",
      "--2021-06-27 23:26:26--  https://ibm.ent.box.com/public/static/vvm1b63uvuxq88vbw9znpwu5ol380mco.jpg\n",
      "Resolving ibm.ent.box.com (ibm.ent.box.com)... 107.152.29.201\n",
      "Connecting to ibm.ent.box.com (ibm.ent.box.com)|107.152.29.201|:443... connected.\n",
      "HTTP request sent, awaiting response... 302 Found\n",
      "Location: https://public.boxcloud.com/d/1/b1!ogOJAmfR4uznJIAruOhUA46dKTz5rWKer8mGPaexQl6TacV-ynzfAvS5ddkpynpxe5NT-pWkaqkWLXwnd6Oux_D6AxWPlRao2qUsvbdJ01e6o9qaG64B7WbQ3VvgAcU6ZkKPzKDrik5mYZ01TtxeikYdx3QLmCeTIfCAv7KVucCvOHnJEkD44RkCUudhn9jr91VH0khxHr-ZZX3SLFvfCSirWM-KVvqhzGSN3kxiUW8-K6fn6C3ShgY5PIAW-KgNa53fK3amZTrRdp5Mo9UuIxV_8lBDbfNCZKgzzcgvNZrwenrJJG780ZFfxpOrPKYc2p5Tb9yACV3ZuhOh34Pi1C0Kq8QTnzk24DYIrIXotXKTliWBAyVRaDWUyzyA4Pc8dMn01RDwz7YlsEbZifCPiDc2Rvx6uQsw1yj6BbdXHO6bkZ5VXZvn1gB-HHGeoyq-FDv699p8GRrVEEgMiyFWR-TPApV2l88e5PlPfdIWWBcioQiwdxXAh3Su8Dxjf7T4NFHYaAEFHdWvrUUr4AFe5Vr7nMO-55sIau1wQ1KMZtVXFmKjgK3YxBxTBFfAMhvM_Jl4_QFNoKyOOvx7zYWycq_QWj6L3RibiyMwNDrgk2zFX8dJ0O271OLnMuYRGzJQEtUnPZXGHMTEOXfQIBoajn43nKUG5zF_oFd0QzM9S-3GuIUdT91Zol67CZ5XgoL6HB-JMNeSKP1kx2q2DH4L5YvQrYAlZHyyVjErg2FzWhHR1I7hoQVNrMYTcFBsEqA3czZrZxPaUuFntI8pC0hmn6x6h87J4ZBJYgU-outCTk796vCScHzBV_zBflpYtSUYoDMPkp_Ah0ioYI1uZz36HbkusNRSQcfBj2XjeoPdX2h8GhYyuHP4S9CRRfvL-hXUngaJeGB72cp_nnGwNPjKg4ZnMGbB23x-BTsLfhY3jXgiDSw9VexN4wJtOUCFAcnnCSh9pBWqeYd3PbR6TobXPGaSA-9qh2oslFaX16YmP6oedYwLkAVRWMkYkYJy4fxRhhIn1KRBA-5WuPd09xXpHsDwGCA_xHUrpFhdVkKYa2OkJ19fK7xSwrYtBmdD5hHbjkik11v6zmDS79DAQ8pBmxzcX1lP7GSYXe5ziUqnEZaYIm5FAZvRfcWnEx-R3obBIFXOlW4c_KJLiZxPT-GMqDNygYq-KYI2BW4Yda1NRzV49W6kYWSh5VFUOXF5MkaHEdvdd6ADPU2y_KdDQTClF02YTGVdpNA25I7Wyqlq3ceU7WjVUibze99Ek4ROUW0-QDFYKsYxNzUhPnwJXKUpOlRehFygr2nbraeW3Iop5yPrZamvCynUMBR3t77zxhyM7O-p_2rzGFPsRUrQ2fN5dLcoR6oPSzg67fU3JGyxZHpNeZSMajuDCsLDhbHtnuMZ5zy3vYtfAyiW0Eapo4CrHMCitwhRJuWJtwNA-kkn5drvE9uoDP6Sw1_asSWXss0./download [following]\n",
      "--2021-06-27 23:26:27--  https://public.boxcloud.com/d/1/b1!ogOJAmfR4uznJIAruOhUA46dKTz5rWKer8mGPaexQl6TacV-ynzfAvS5ddkpynpxe5NT-pWkaqkWLXwnd6Oux_D6AxWPlRao2qUsvbdJ01e6o9qaG64B7WbQ3VvgAcU6ZkKPzKDrik5mYZ01TtxeikYdx3QLmCeTIfCAv7KVucCvOHnJEkD44RkCUudhn9jr91VH0khxHr-ZZX3SLFvfCSirWM-KVvqhzGSN3kxiUW8-K6fn6C3ShgY5PIAW-KgNa53fK3amZTrRdp5Mo9UuIxV_8lBDbfNCZKgzzcgvNZrwenrJJG780ZFfxpOrPKYc2p5Tb9yACV3ZuhOh34Pi1C0Kq8QTnzk24DYIrIXotXKTliWBAyVRaDWUyzyA4Pc8dMn01RDwz7YlsEbZifCPiDc2Rvx6uQsw1yj6BbdXHO6bkZ5VXZvn1gB-HHGeoyq-FDv699p8GRrVEEgMiyFWR-TPApV2l88e5PlPfdIWWBcioQiwdxXAh3Su8Dxjf7T4NFHYaAEFHdWvrUUr4AFe5Vr7nMO-55sIau1wQ1KMZtVXFmKjgK3YxBxTBFfAMhvM_Jl4_QFNoKyOOvx7zYWycq_QWj6L3RibiyMwNDrgk2zFX8dJ0O271OLnMuYRGzJQEtUnPZXGHMTEOXfQIBoajn43nKUG5zF_oFd0QzM9S-3GuIUdT91Zol67CZ5XgoL6HB-JMNeSKP1kx2q2DH4L5YvQrYAlZHyyVjErg2FzWhHR1I7hoQVNrMYTcFBsEqA3czZrZxPaUuFntI8pC0hmn6x6h87J4ZBJYgU-outCTk796vCScHzBV_zBflpYtSUYoDMPkp_Ah0ioYI1uZz36HbkusNRSQcfBj2XjeoPdX2h8GhYyuHP4S9CRRfvL-hXUngaJeGB72cp_nnGwNPjKg4ZnMGbB23x-BTsLfhY3jXgiDSw9VexN4wJtOUCFAcnnCSh9pBWqeYd3PbR6TobXPGaSA-9qh2oslFaX16YmP6oedYwLkAVRWMkYkYJy4fxRhhIn1KRBA-5WuPd09xXpHsDwGCA_xHUrpFhdVkKYa2OkJ19fK7xSwrYtBmdD5hHbjkik11v6zmDS79DAQ8pBmxzcX1lP7GSYXe5ziUqnEZaYIm5FAZvRfcWnEx-R3obBIFXOlW4c_KJLiZxPT-GMqDNygYq-KYI2BW4Yda1NRzV49W6kYWSh5VFUOXF5MkaHEdvdd6ADPU2y_KdDQTClF02YTGVdpNA25I7Wyqlq3ceU7WjVUibze99Ek4ROUW0-QDFYKsYxNzUhPnwJXKUpOlRehFygr2nbraeW3Iop5yPrZamvCynUMBR3t77zxhyM7O-p_2rzGFPsRUrQ2fN5dLcoR6oPSzg67fU3JGyxZHpNeZSMajuDCsLDhbHtnuMZ5zy3vYtfAyiW0Eapo4CrHMCitwhRJuWJtwNA-kkn5drvE9uoDP6Sw1_asSWXss0./download\n",
      "Resolving public.boxcloud.com (public.boxcloud.com)... 107.152.29.200\n",
      "Connecting to public.boxcloud.com (public.boxcloud.com)|107.152.29.200|:443... connected.\n",
      "HTTP request sent, awaiting response... 200 OK\n",
      "Length: 24383 (24K) [image/jpeg]\n",
      "Saving to: ‘destructed3.jpg’\n",
      "\n",
      "destructed3.jpg     100%[===================>]  23.81K  --.-KB/s    in 0.02s   \n",
      "\n",
      "2021-06-27 23:26:27 (1.28 MB/s) - ‘destructed3.jpg’ saved [24383/24383]\n",
      "\n"
     ]
    },
    {
     "data": {
      "image/png": "[encoded data removed]",
      "text/plain": [
       "<PIL.JpegImagePlugin.JpegImageFile image mode=RGB size=181x181 at 0x7F5AA8178B38>"
      ]
     },
     "execution_count": 24,
     "metadata": {},
     "output_type": "execute_result"
    }
   ],
   "source": [
    "!wget -O destructed3.jpg  https://ibm.box.com/shared/static/vvm1b63uvuxq88vbw9znpwu5ol380mco.jpg\n",
    "img = Image.open('destructed3.jpg')\n",
    "img"
   ]
  },
  {
   "cell_type": "markdown",
   "metadata": {},
   "source": [
    "Now let's pass this image through the neural net:\n"
   ]
  },
  {
   "cell_type": "code",
   "execution_count": 25,
   "metadata": {},
   "outputs": [],
   "source": [
    "# convert the image to a 1d numpy array\n",
    "sample_case = np.array(img.convert('I').resize((28,28))).ravel().reshape((1, -1))/255.0\n",
    "\n",
    "sample_case = tf.cast(sample_case, dtype=tf.float32)"
   ]
  },
  {
   "cell_type": "markdown",
   "metadata": {},
   "source": [
    "Feed the sample case into the network and reconstruct the output:\n"
   ]
  },
  {
   "cell_type": "code",
   "execution_count": 26,
   "metadata": {},
   "outputs": [
    {
     "name": "stdout",
     "output_type": "stream",
     "text": [
      "Probability nodes in hidden layer: tf.Tensor(\n",
      "[[8.2688469e-01 9.9999171e-01 1.6184962e-10 2.9605176e-06 9.9856704e-01\n",
      "  1.5146252e-09 7.6648956e-07 2.9957631e-14 1.0000000e+00 1.7255276e-02\n",
      "  2.2742160e-13 8.6500513e-09 1.4961089e-05 6.4481952e-07 4.5911968e-03\n",
      "  2.3006421e-01 7.9894066e-04 3.0652618e-14 3.6882709e-13 8.6135268e-01\n",
      "  9.9999881e-01 1.0000000e+00 1.2175234e-16 9.9864239e-01 5.4162706e-11\n",
      "  1.0000000e+00 8.8816988e-14 9.3897283e-03 6.9560161e-07 6.8116188e-04\n",
      "  7.5159150e-01 1.6609967e-02 2.7071834e-03 3.3607364e-02 1.5546740e-06\n",
      "  2.2299866e-05 8.8275423e-09 4.9748068e-09 7.8406867e-07 9.8585653e-01\n",
      "  5.3668998e-07 5.8690183e-08 1.0000000e+00 9.9999934e-01 2.8500168e-08\n",
      "  9.9999964e-01 1.4295357e-07 3.8254479e-06 1.0000000e+00 9.6679395e-01]], shape=(1, 50), dtype=float32)\n",
      "activated nodes in hidden layer: tf.Tensor(\n",
      "[[1. 1. 0. 0. 1. 0. 0. 0. 1. 0. 0. 0. 0. 0. 0. 0. 0. 0. 0. 1. 1. 1. 0. 1.\n",
      "  0. 1. 0. 0. 0. 0. 1. 0. 0. 0. 0. 0. 0. 0. 0. 1. 0. 0. 1. 1. 0. 1. 0. 0.\n",
      "  1. 1.]], shape=(1, 50), dtype=float32)\n",
      "tf.Tensor(\n",
      "[[2.19225883e-04 6.58333302e-04 3.72469425e-04 5.78045845e-04\n",
      "  4.36991453e-04 4.41282988e-04 4.87804413e-04 4.92691994e-04\n",
      "  7.49677420e-04 4.54753637e-04 6.78360462e-04 4.03404236e-04\n",
      "  4.50342894e-04 5.56677580e-04 5.68032265e-04 5.79118729e-04\n",
      "  4.32640314e-04 4.36991453e-04 5.49942255e-04 3.95506620e-04\n",
      "  6.45279884e-04 4.63962555e-04 4.63962555e-04 3.23802233e-04\n",
      "  5.83946705e-04 4.97609377e-04 5.12778759e-04 4.68641520e-04\n",
      "  4.24057245e-04 5.61028719e-04 3.36945057e-04 3.17424536e-04\n",
      "  3.80903482e-04 4.10825014e-04 4.69326973e-04 5.52535057e-04\n",
      "  4.00900841e-04 4.48375940e-04 5.28365374e-04 2.77996063e-04\n",
      "  4.02837992e-04 4.70012426e-04 4.69058752e-04 3.69071960e-04\n",
      "  4.46766615e-04 9.37014818e-04 4.91142273e-04 3.62783670e-04\n",
      "  6.37531281e-04 6.43432140e-04 6.28650188e-04 4.09275293e-04\n",
      "  4.87804413e-04 2.87175179e-04 2.70485878e-04 5.55396080e-04\n",
      "  3.54230404e-04 3.08007002e-04 6.68317080e-04 4.41551208e-04\n",
      "  4.09930944e-04 4.67389822e-04 5.66661358e-04 4.35978174e-04\n",
      "  3.89546156e-04 2.04235315e-04 1.61468983e-04 7.83697178e-05\n",
      "  3.47433015e-05 8.02389914e-05 1.66475773e-04 1.89989805e-04\n",
      "  3.07202339e-04 2.38418579e-04 2.62320042e-04 8.96778001e-05\n",
      "  7.18692681e-05 2.46882439e-04 4.10556793e-04 6.98924065e-04\n",
      "  4.62025404e-04 3.46958637e-04 5.12689352e-04 4.68641520e-04\n",
      "  3.91483307e-04 3.91483307e-04 2.95907259e-04 3.62515450e-04\n",
      "  6.20514154e-04 7.72297382e-04 5.74171543e-04 2.98112631e-04\n",
      "  3.00168991e-04 1.30683184e-04 7.25779464e-05 9.86522646e-05\n",
      "  9.63998027e-05 4.67091799e-04 1.01855397e-03 1.16553903e-03\n",
      "  2.27442384e-03 2.74398923e-03 1.22541189e-03 9.09924507e-04\n",
      "  5.12689352e-04 8.07553530e-04 6.42329454e-04 4.62681055e-04\n",
      "  9.21696424e-04 3.86893749e-04 2.87503004e-04 4.92691994e-04\n",
      "  5.72323799e-04 6.95407391e-04 6.53862953e-04 5.15758991e-04\n",
      "  6.46829605e-04 1.08212233e-03 2.16639042e-03 1.48135424e-03\n",
      "  9.81688499e-04 6.93589449e-04 1.25795603e-03 3.23656201e-03\n",
      "  4.94548678e-03 1.85039341e-02 5.05720377e-02 7.73750544e-02\n",
      "  1.39635444e-01 1.15411103e-01 4.25519943e-02 1.17103457e-02\n",
      "  7.19046593e-03 1.01494491e-02 1.26662254e-02 1.46920681e-02\n",
      "  3.94934416e-03 1.47101283e-03 6.39379025e-04 5.24878502e-04\n",
      "  4.03404236e-04 5.78045845e-04 3.37183475e-04 5.65767288e-04\n",
      "  1.57856941e-03 1.63266063e-03 3.32662463e-03 3.83993983e-03\n",
      "  3.12888622e-03 6.50885701e-03 1.32083595e-02 3.80108356e-02\n",
      "  8.25272202e-02 1.77131623e-01 5.75441182e-01 8.11091900e-01\n",
      "  8.53344321e-01 9.24784839e-01 6.00475490e-01 3.05388331e-01\n",
      "  1.57331824e-01 3.57218385e-02 3.10351253e-02 6.32990897e-02\n",
      "  1.40969455e-02 4.40445542e-03 1.82694197e-03 4.62561846e-04\n",
      "  4.87804413e-04 4.39286232e-04 7.95871019e-04 1.15373731e-03\n",
      "  3.66601348e-03 6.23956323e-03 9.16874409e-03 5.91036677e-03\n",
      "  1.41073763e-02 2.58535743e-02 1.55550420e-01 4.26389009e-01\n",
      "  7.16149032e-01 8.40126753e-01 9.34694648e-01 9.52483535e-01\n",
      "  9.45266128e-01 9.54860449e-01 7.81242728e-01 6.98053241e-01\n",
      "  3.98811638e-01 1.90230042e-01 8.38549435e-02 3.93904150e-02\n",
      "  1.48969591e-02 4.72667813e-03 2.24700570e-03 4.11599874e-04\n",
      "  4.53263521e-04 4.88191843e-04 1.13847852e-03 2.13596225e-03\n",
      "  6.58938289e-03 1.95669830e-02 1.40848458e-02 1.15254521e-02\n",
      "  2.04518735e-02 9.55788791e-02 2.63074249e-01 7.40782917e-01\n",
      "  8.74891460e-01 9.10716057e-01 9.25515115e-01 8.87900352e-01\n",
      "  9.18850362e-01 7.47216582e-01 6.16887987e-01 8.67477179e-01\n",
      "  7.78554678e-01 4.20639902e-01 1.09429002e-01 1.33983493e-02\n",
      "  2.11414695e-02 4.79844213e-03 3.11744213e-03 4.58031893e-04\n",
      "  3.04818153e-04 5.94466925e-04 8.50439072e-04 5.72717190e-03\n",
      "  8.75201821e-03 9.55060124e-03 7.66021013e-03 8.90365243e-03\n",
      "  1.85971856e-02 8.19964409e-02 3.99084717e-01 5.61688483e-01\n",
      "  7.24603415e-01 7.01706171e-01 4.38456416e-01 4.48552847e-01\n",
      "  3.13663065e-01 1.70937657e-01 4.80943859e-01 8.43240857e-01\n",
      "  9.09195781e-01 7.05345809e-01 1.07786417e-01 1.18698478e-02\n",
      "  3.29852104e-03 3.26466560e-03 1.26889348e-03 4.54366207e-04\n",
      "  5.65767288e-04 8.17060471e-04 1.03110075e-03 3.29318643e-03\n",
      "  7.79336691e-03 5.53363562e-03 6.35910034e-03 7.91043043e-03\n",
      "  1.77398920e-02 7.90805519e-02 3.14931840e-01 2.69568503e-01\n",
      "  1.47804052e-01 1.41805142e-01 5.88564277e-02 7.96456039e-02\n",
      "  9.06622112e-02 9.59155560e-02 4.60504591e-01 9.24270034e-01\n",
      "  9.51973677e-01 7.02499628e-01 7.42315352e-02 9.33399796e-03\n",
      "  2.58797407e-03 1.02761388e-03 1.31794810e-03 4.01347876e-04\n",
      "  3.52948904e-04 8.26597214e-04 1.86306238e-03 3.29518318e-03\n",
      "  4.72837687e-03 3.29163671e-03 3.13919783e-03 1.16707683e-02\n",
      "  1.68718100e-02 8.40910375e-02 1.07784897e-01 4.14543748e-02\n",
      "  7.40279555e-02 6.76966012e-02 4.39132154e-02 1.02925748e-01\n",
      "  1.90884888e-01 2.77881384e-01 7.92868495e-01 9.41672921e-01\n",
      "  8.97205472e-01 5.27933419e-01 1.30817294e-02 3.28814983e-03\n",
      "  7.06464052e-04 9.94950533e-04 1.03858113e-03 6.13749027e-04\n",
      "  3.68356705e-04 8.10444355e-04 1.41313672e-03 2.39390135e-03\n",
      "  4.54622507e-03 4.75543737e-03 8.35382938e-03 9.20653343e-03\n",
      "  2.68580317e-02 6.05181754e-02 5.41732609e-02 4.86384928e-02\n",
      "  1.06599569e-01 1.38358295e-01 2.12170720e-01 4.95821148e-01\n",
      "  5.05923867e-01 5.16066253e-01 8.50406170e-01 8.50425243e-01\n",
      "  6.93536282e-01 7.11909235e-02 2.95829773e-03 5.11258841e-04\n",
      "  2.97576189e-04 9.22113657e-04 5.09828329e-04 5.67018986e-04\n",
      "  5.21868467e-04 6.64085150e-04 1.43125653e-03 2.81399488e-03\n",
      "  6.67649508e-03 6.06670976e-03 2.08983123e-02 1.11351907e-02\n",
      "  1.18916929e-02 6.60065711e-02 5.36157191e-02 2.18678981e-01\n",
      "  5.52092850e-01 5.96261919e-01 7.38630831e-01 8.03574324e-01\n",
      "  7.96429336e-01 7.77356625e-01 7.10757852e-01 5.99202812e-01\n",
      "  2.15731978e-01 1.56748593e-02 1.47792697e-03 1.47998333e-04\n",
      "  1.75714493e-04 4.74244356e-04 4.19497490e-04 5.15282154e-04\n",
      "  5.45829535e-04 4.10199165e-04 1.23736262e-03 1.11013651e-03\n",
      "  4.21160460e-03 1.25457346e-02 2.32401788e-02 1.53823793e-02\n",
      "  4.25210297e-02 6.38218522e-02 2.56363213e-01 8.13798547e-01\n",
      "  9.37017918e-01 9.38463151e-01 9.04268563e-01 8.60418141e-01\n",
      "  8.02761555e-01 8.67651165e-01 5.66175580e-01 4.42979097e-01\n",
      "  5.05268574e-02 3.18542123e-03 4.07278538e-04 1.42365694e-04\n",
      "  1.14865383e-04 3.56346369e-04 4.41312790e-04 3.60846519e-04\n",
      "  4.27216291e-04 3.96341085e-04 6.09576702e-04 1.71494484e-03\n",
      "  6.22501969e-03 1.50566101e-02 2.44539082e-02 1.20938122e-02\n",
      "  3.45541835e-02 1.07038438e-01 3.32646549e-01 8.27080607e-01\n",
      "  9.57134426e-01 8.23428750e-01 7.60846019e-01 7.35640705e-01\n",
      "  7.56309032e-01 8.11471224e-01 5.23287654e-01 1.90938771e-01\n",
      "  7.19240308e-03 1.35788321e-03 4.23908234e-04 1.70439482e-04\n",
      "  1.05938605e-04 1.93566084e-04 6.23494387e-04 5.04612923e-04\n",
      "  2.96354294e-04 4.45336103e-04 5.21570444e-04 1.86201930e-03\n",
      "  1.02844834e-02 1.60866082e-02 2.02433467e-02 1.12657249e-02\n",
      "  2.26888657e-02 2.54164338e-02 1.65703058e-01 4.48592097e-01\n",
      "  3.72309387e-01 3.26364338e-01 1.17988497e-01 2.56563306e-01\n",
      "  6.26260519e-01 8.05118501e-01 5.64048648e-01 1.17437840e-01\n",
      "  6.67420030e-03 1.15638971e-03 1.00648403e-03 2.58684158e-04\n",
      "  1.65283680e-04 1.45256519e-04 5.19812107e-04 5.34981489e-04\n",
      "  3.81410122e-04 4.61995602e-04 6.28024340e-04 4.84886765e-03\n",
      "  1.82473063e-02 1.25176609e-02 2.84068882e-02 1.22914910e-02\n",
      "  1.23427212e-02 2.18662918e-02 7.29002059e-02 6.98183775e-02\n",
      "  5.17562032e-02 2.22152174e-02 2.03519166e-02 5.28563857e-02\n",
      "  4.18440849e-01 7.60723591e-01 4.96727139e-01 5.31698465e-02\n",
      "  2.64239311e-03 7.70956278e-04 7.60227442e-04 4.18007374e-04\n",
      "  1.53213739e-04 1.45494938e-04 4.21047211e-04 4.04536724e-04\n",
      "  4.19884920e-04 3.73095274e-04 1.87230110e-03 1.07998252e-02\n",
      "  2.22666562e-02 2.08310485e-02 4.99993861e-02 1.65567994e-02\n",
      "  7.78952241e-03 8.61367583e-03 1.57998800e-02 1.52651966e-02\n",
      "  5.70034981e-03 4.72733378e-03 1.53569877e-02 5.42168915e-02\n",
      "  1.40719324e-01 6.73712254e-01 3.51907194e-01 4.64122891e-02\n",
      "  6.04563951e-03 1.76268816e-03 1.03622675e-03 4.42117453e-04\n",
      "  1.72197819e-04 9.77238378e-05 4.52786684e-04 4.09662724e-04\n",
      "  4.49627638e-04 5.40703535e-04 2.51033902e-03 3.16077471e-02\n",
      "  7.44874477e-02 6.20711148e-02 1.01958841e-01 3.04532051e-02\n",
      "  1.42169595e-02 9.88152623e-03 3.91256809e-03 2.40573287e-03\n",
      "  1.95148587e-03 6.61993027e-03 6.60461187e-03 1.13047957e-02\n",
      "  1.51137412e-01 7.02194393e-01 6.44787788e-01 1.47006184e-01\n",
      "  1.15149021e-02 3.44973803e-03 9.89228487e-04 7.23093748e-04\n",
      "  3.39925289e-04 2.15739012e-04 5.77867031e-04 3.39359045e-04\n",
      "  3.00318003e-04 6.73025846e-04 4.59802151e-03 5.10462523e-02\n",
      "  1.28055930e-01 1.02970600e-01 1.64868832e-01 6.49991930e-02\n",
      "  2.55693495e-02 1.05933249e-02 2.75084376e-03 2.02515721e-03\n",
      "  2.87860632e-03 3.78495455e-03 4.62299585e-03 1.75384581e-02\n",
      "  2.94175833e-01 7.98601985e-01 8.17937136e-01 2.50019968e-01\n",
      "  7.32120872e-03 2.46819854e-03 6.60955906e-04 5.16176224e-04\n",
      "  3.93539667e-04 2.34097242e-04 6.60270452e-04 3.16083431e-04\n",
      "  4.73380089e-04 6.26325607e-04 5.77563047e-03 1.16226554e-01\n",
      "  1.93760693e-01 2.07098335e-01 3.21373045e-01 2.59763598e-01\n",
      "  1.51358873e-01 3.96612287e-02 8.53273273e-03 4.19920683e-03\n",
      "  1.43610537e-02 4.68152761e-03 1.68017149e-02 1.32079512e-01\n",
      "  8.63392889e-01 9.68841553e-01 8.84148836e-01 1.83862597e-01\n",
      "  1.02301240e-02 2.31304765e-03 8.43018293e-04 1.06576085e-03\n",
      "  1.01172924e-03 6.16341829e-04 5.87284565e-04 4.07278538e-04\n",
      "  6.34133816e-04 5.70952892e-04 5.69888949e-03 9.12046134e-02\n",
      "  1.74127400e-01 2.96829045e-01 3.18026721e-01 3.30748171e-01\n",
      "  2.44175047e-01 9.62271690e-02 5.72778881e-02 7.42043257e-02\n",
      "  1.85064107e-01 1.33533865e-01 2.25701898e-01 7.95310140e-01\n",
      "  9.45821166e-01 9.71299112e-01 6.94142342e-01 4.66966331e-02\n",
      "  1.96874142e-03 1.37114525e-03 1.10504031e-03 1.78816915e-03\n",
      "  1.45259500e-03 9.26673412e-04 7.03275204e-04 3.52114439e-04\n",
      "  2.96592712e-04 4.34190035e-04 3.17177176e-03 3.69902849e-02\n",
      "  1.96767807e-01 2.23651141e-01 2.37305969e-01 4.64451671e-01\n",
      "  4.99975502e-01 4.09428716e-01 4.06972319e-01 6.61975026e-01\n",
      "  7.60034323e-01 8.39495659e-01 7.77374625e-01 9.20861125e-01\n",
      "  9.33333755e-01 8.46379161e-01 1.86920851e-01 1.45701468e-02\n",
      "  2.26756930e-03 2.61953473e-03 1.77773833e-03 1.90457702e-03\n",
      "  6.17921352e-04 8.05616379e-04 5.22196293e-04 3.49164009e-04\n",
      "  2.93046236e-04 4.24087048e-04 1.82449818e-03 1.37400031e-02\n",
      "  7.12940395e-02 1.15468234e-01 2.01907218e-01 4.09923404e-01\n",
      "  4.40724075e-01 7.85568714e-01 8.63856673e-01 9.69092071e-01\n",
      "  9.69839036e-01 9.15471673e-01 7.91419566e-01 7.98017085e-01\n",
      "  6.73976958e-01 3.81551743e-01 1.07528269e-01 1.15847588e-02\n",
      "  2.04607844e-03 1.72480941e-03 1.08268857e-03 1.04892254e-03\n",
      "  1.10593438e-03 5.48064709e-04 3.14146280e-04 4.54783440e-04\n",
      "  3.40312719e-04 4.54753637e-04 5.25087118e-04 1.75383687e-03\n",
      "  1.27231479e-02 4.28992510e-02 1.18768543e-01 1.49242550e-01\n",
      "  3.19652617e-01 5.29808998e-01 7.72023082e-01 7.89189279e-01\n",
      "  8.16798210e-01 7.13386297e-01 2.51211345e-01 1.25775069e-01\n",
      "  1.29591525e-01 1.60374880e-01 3.82792056e-02 5.33616543e-03\n",
      "  2.69582868e-03 1.60756707e-03 1.01560354e-03 8.90880823e-04\n",
      "  6.86764717e-04 5.13076782e-04 4.82350588e-04 3.87609005e-04\n",
      "  3.68714333e-04 4.78118658e-04 5.21183014e-04 5.98847866e-04\n",
      "  1.25950575e-03 1.60551071e-03 3.24910879e-03 6.20666146e-03\n",
      "  1.69340074e-02 5.60354590e-02 5.17290533e-02 1.28274590e-01\n",
      "  1.55548424e-01 1.97829604e-02 1.34893954e-02 9.30374861e-03\n",
      "  3.04493308e-02 2.25864947e-02 4.92018461e-03 1.50856376e-03\n",
      "  4.81098890e-04 2.70336866e-04 5.12719154e-04 7.11619854e-04\n",
      "  3.34799290e-04 3.85731459e-04 3.66717577e-04 3.87609005e-04\n",
      "  4.32640314e-04 6.71654940e-04 4.36961651e-04 5.28037548e-04\n",
      "  6.22361898e-04 1.35746598e-03 8.72433186e-04 8.89629126e-04\n",
      "  9.52273607e-04 1.71685219e-03 5.64786792e-03 2.84138322e-03\n",
      "  4.97522950e-03 1.42204762e-03 8.66740942e-04 1.15448236e-03\n",
      "  2.75942683e-03 3.40262055e-03 8.79615545e-04 7.73161650e-04\n",
      "  5.52624464e-04 4.63843346e-04 3.76820564e-04 4.36633825e-04\n",
      "  4.01496887e-04 5.94735146e-04 4.68641520e-04 4.92691994e-04\n",
      "  3.95447016e-04 3.17424536e-04 3.91483307e-04 3.43829393e-04\n",
      "  3.08543444e-04 3.37511301e-04 5.84125519e-04 8.35508108e-04\n",
      "  1.27422810e-03 2.79161334e-03 3.17397714e-03 1.99502707e-03\n",
      "  9.86218452e-04 1.11106038e-03 1.04594231e-03 1.70853734e-03\n",
      "  1.78241730e-03 1.82393193e-03 7.53879547e-04 7.36296177e-04\n",
      "  5.01126051e-04 4.58955765e-04 5.67555428e-04 3.75717878e-04\n",
      "  5.72323799e-04 3.87609005e-04 3.95447016e-04 4.03404236e-04]], shape=(1, 784), dtype=float32)\n"
     ]
    }
   ],
   "source": [
    "hh0_p = tf.nn.sigmoid(tf.matmul(sample_case, W) + hb)\n",
    "hh0_s = tf.round(hh0_p)\n",
    "\n",
    "print(\"Probability nodes in hidden layer:\" ,hh0_p)\n",
    "print(\"activated nodes in hidden layer:\" ,hh0_s)\n",
    "\n",
    "# reconstruct\n",
    "vv1_p = tf.nn.sigmoid(tf.matmul(hh0_s, tf.transpose(W)) + vb)\n",
    "\n",
    "print(vv1_p)\n",
    "#rec_prob = sess.run(vv1_p, feed_dict={ hh0_s: hh0_s_val, W: prv_w, vb: prv_vb})"
   ]
  },
  {
   "cell_type": "markdown",
   "metadata": {},
   "source": [
    "Here we plot the reconstructed image:\n"
   ]
  },
  {
   "cell_type": "code",
   "execution_count": 27,
   "metadata": {},
   "outputs": [
    {
     "data": {
      "image/png": "[encoded data removed]",
      "text/plain": [
       "<Figure size 288x288 with 1 Axes>"
      ]
     },
     "metadata": {
      "needs_background": "light"
     },
     "output_type": "display_data"
    }
   ],
   "source": [
    "img = Image.fromarray(tile_raster_images(X=vv1_p.numpy(), img_shape=(28, 28),tile_shape=(1, 1), tile_spacing=(1, 1)))\n",
    "plt.rcParams['figure.figsize'] = (4.0, 4.0)\n",
    "imgplot = plt.imshow(img)\n",
    "imgplot.set_cmap('gray') "
   ]
  },
  {
   "cell_type": "markdown",
   "metadata": {},
   "source": [
    "<hr>\n",
    "\n",
    "## Want to learn more?\n",
    "\n",
    "Running deep learning programs usually needs a high performance platform. **PowerAI** speeds up deep learning and AI. Built on IBM’s Power Systems, **PowerAI** is a scalable software platform that accelerates deep learning and AI with blazing performance for individual users or enterprises. The **PowerAI** platform supports popular machine learning libraries and dependencies including TensorFlow, Caffe, Torch, and Theano. You can use [PowerAI on IMB Cloud](https://cocl.us/ML0120EN_PAI).\n",
    "\n",
    "Also, you can use **Watson Studio** to run these notebooks faster with bigger datasets.**Watson Studio** is IBM’s leading cloud solution for data scientists, built by data scientists. With Jupyter notebooks, RStudio, Apache Spark and popular libraries pre-packaged in the cloud, **Watson Studio** enables data scientists to collaborate on their projects without having to install anything. Join the fast-growing community of **Watson Studio** users today with a free account at [Watson Studio](https://cocl.us/ML0120EN_DSX).This is the end of this lesson. Thank you for reading this notebook, and good luck on your studies.\n"
   ]
  },
  {
   "cell_type": "markdown",
   "metadata": {},
   "source": [
    "### Thanks for completing this lesson!\n",
    "\n",
    "Notebook created by: <a href = \"https://ca.linkedin.com/in/saeedaghabozorgi\">Saeed Aghabozorgi</a>\n",
    "\n",
    "Updated to TF 2.X by  <a href=\"https://ca.linkedin.com/in/nilmeier\"> Jerome Nilmeier</a><br />\n"
   ]
  },
  {
   "cell_type": "markdown",
   "metadata": {},
   "source": [
    "### References:\n",
    "\n",
    "[https://en.wikipedia.org/wiki/Restricted_Boltzmann_machine](https://en.wikipedia.org/wiki/Restricted_Boltzmann_machine?cm_mmc=Email_Newsletter-_-Developer_Ed%2BTech-_-WW_WW-_-SkillsNetwork-Courses-IBMDeveloperSkillsNetwork-DL0120EN-SkillsNetwork-20629446&cm_mmca1=000026UJ&cm_mmca2=10006555&cm_mmca3=M12345678&cvosrc=email.Newsletter.M12345678&cvo_campaign=000026UJ)  \n",
    "[http://deeplearning.net/tutorial/rbm.html](http://deeplearning.net/tutorial/rbm.html?cm_mmc=Email_Newsletter-_-Developer_Ed%2BTech-_-WW_WW-_-SkillsNetwork-Courses-IBMDeveloperSkillsNetwork-DL0120EN-SkillsNetwork-20629446&cm_mmca1=000026UJ&cm_mmca2=10006555&cm_mmca3=M12345678&cvosrc=email.Newsletter.M12345678&cvo_campaign=000026UJ&cm_mmc=Email_Newsletter-_-Developer_Ed%2BTech-_-WW_WW-_-SkillsNetwork-Courses-IBMDeveloperSkillsNetwork-DL0120EN-SkillsNetwork-20629446&cm_mmca1=000026UJ&cm_mmca2=10006555&cm_mmca3=M12345678&cvosrc=email.Newsletter.M12345678&cvo_campaign=000026UJ)  \n",
    "[http://www.cs.utoronto.ca/~hinton/absps/netflixICML.pdf](http://www.cs.utoronto.ca/~hinton/absps/netflixICML.pdf?cm_mmc=Email_Newsletter-_-Developer_Ed%2BTech-_-WW_WW-_-SkillsNetwork-Courses-IBMDeveloperSkillsNetwork-DL0120EN-SkillsNetwork-20629446&cm_mmca1=000026UJ&cm_mmca2=10006555&cm_mmca3=M12345678&cvosrc=email.Newsletter.M12345678&cvo_campaign=000026UJ&cm_mmc=Email_Newsletter-_-Developer_Ed%2BTech-_-WW_WW-_-SkillsNetwork-Courses-IBMDeveloperSkillsNetwork-DL0120EN-SkillsNetwork-20629446&cm_mmca1=000026UJ&cm_mmca2=10006555&cm_mmca3=M12345678&cvosrc=email.Newsletter.M12345678&cvo_campaign=000026UJ)<br>\n",
    "<http://imonad.com/rbm/restricted-boltzmann-machine/>  \n"
   ]
  },
  {
   "cell_type": "markdown",
   "metadata": {},
   "source": [
    "<hr>\n",
    "\n",
    "Copyright © 2018 [Cognitive Class](https://cocl.us/DX0108EN_CC). This notebook and its source code are released under the terms of the [MIT License](https://bigdatauniversity.com/mit-license?cm_mmc=Email_Newsletter-_-Developer_Ed%2BTech-_-WW_WW-_-SkillsNetwork-Courses-IBMDeveloperSkillsNetwork-DL0120EN-SkillsNetwork-20629446&cm_mmca1=000026UJ&cm_mmca2=10006555&cm_mmca3=M12345678&cvosrc=email.Newsletter.M12345678&cvo_campaign=000026UJ&cm_mmc=Email_Newsletter-_-Developer_Ed%2BTech-_-WW_WW-_-SkillsNetwork-Courses-IBMDeveloperSkillsNetwork-DL0120EN-SkillsNetwork-20629446&cm_mmca1=000026UJ&cm_mmca2=10006555&cm_mmca3=M12345678&cvosrc=email.Newsletter.M12345678&cvo_campaign=000026UJ).\n"
   ]
  },
  {
   "cell_type": "code",
   "execution_count": null,
   "metadata": {},
   "outputs": [],
   "source": []
  }
 ],
 "metadata": {
  "kernelspec": {
   "display_name": "Python",
   "language": "python",
   "name": "conda-env-python-py"
  },
  "language_info": {
   "codemirror_mode": {
    "name": "ipython",
    "version": 3
   },
   "file_extension": ".py",
   "mimetype": "text/x-python",
   "name": "python",
   "nbconvert_exporter": "python",
   "pygments_lexer": "ipython3",
   "version": "3.6.13"
  },
  "widgets": {
   "state": {},
   "version": "1.1.2"
  }
 },
 "nbformat": 4,
 "nbformat_minor": 4
}
